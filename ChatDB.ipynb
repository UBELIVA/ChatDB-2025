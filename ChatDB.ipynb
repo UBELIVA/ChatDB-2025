{
 "cells": [
  {
   "cell_type": "markdown",
   "id": "1e536955-ebdb-432c-872b-698e2db6b869",
   "metadata": {},
   "source": [
    "# DSCI351 Project: ChatDB"
   ]
  },
  {
   "cell_type": "markdown",
   "id": "8efb2ac1-0d83-4e73-bc8a-35791609c43a",
   "metadata": {
    "jp-MarkdownHeadingCollapsed": true
   },
   "source": [
    "# 1️⃣ Set Up The Environment"
   ]
  },
  {
   "cell_type": "code",
   "execution_count": 1,
   "id": "1c943ec7-bbee-4da7-a209-1bf6b4c2276d",
   "metadata": {},
   "outputs": [
    {
     "name": "stdout",
     "output_type": "stream",
     "text": [
      "✅All Resource Installed Successfully！\n"
     ]
    }
   ],
   "source": [
    "#Set up the environment\n",
    "\n",
    "import pymysql\n",
    "import pymongo\n",
    "import sqlalchemy\n",
    "import pandas as pd\n",
    "import openai\n",
    "import ipywidgets\n",
    "print(\"✅All Resource Installed Successfully！\")\n"
   ]
  },
  {
   "cell_type": "markdown",
   "id": "7eef137d-8e99-4f73-8ff2-3f08ae5b6fd1",
   "metadata": {
    "jp-MarkdownHeadingCollapsed": true
   },
   "source": [
    "# 2️⃣ RDBMS Part: MySQL"
   ]
  },
  {
   "cell_type": "markdown",
   "id": "577c6098-6ecc-4ec1-acef-851e7ab5c6d2",
   "metadata": {},
   "source": [
    "### 2.1 Preparation Work (Connect to mysql service, create database, import data, etc.)"
   ]
  },
  {
   "cell_type": "code",
   "execution_count": 5,
   "id": "b0d00415-3a0f-41b8-9aa3-b3f9edcd21f6",
   "metadata": {},
   "outputs": [
    {
     "name": "stdout",
     "output_type": "stream",
     "text": [
      "✅ DataBase create Successfully\n"
     ]
    }
   ],
   "source": [
    "# Connect to mysql service\n",
    "import pymysql\n",
    "\n",
    "conn = pymysql.connect(\n",
    "    host=\"\",\n",
    "    user=\"\",\n",
    "    password=\"\"\n",
    ") # Replace AWS address infomation\n",
    "\n",
    "with conn.cursor() as cursor:\n",
    "    cursor.execute(\"CREATE DATABASE IF NOT EXISTS product_db;\")\n",
    "    cursor.execute(\"CREATE DATABASE IF NOT EXISTS customer_db;\")\n",
    "    cursor.execute(\"CREATE DATABASE IF NOT EXISTS order_db;\")\n",
    "    print(\"✅ DataBase create Successfully\")\n",
    "\n",
    "conn.commit()\n",
    "conn.close()\n"
   ]
  },
  {
   "cell_type": "code",
   "execution_count": 7,
   "id": "12fcc53f-e40f-4e72-ab93-161ccea53e18",
   "metadata": {
    "scrolled": true
   },
   "outputs": [
    {
     "name": "stdout",
     "output_type": "stream",
     "text": [
      "✅ Imported products.csv to product_db.products\n",
      "✅ Imported categories.csv to product_db.categories\n"
     ]
    }
   ],
   "source": [
    "#Import Data to product_db\n",
    "import pandas as pd\n",
    "from sqlalchemy import create_engine\n",
    "\n",
    "# Connect to product_db\n",
    "engine_product = create_engine(\" \")# Replace AWS address infomation\n",
    "\n",
    "product_tables = {\n",
    "    \"products.csv\": \"products\",\n",
    "    \"categories.csv\": \"categories\"\n",
    "}\n",
    "\n",
    "# Import Data\n",
    "for file, table in product_tables.items():\n",
    "    df = pd.read_csv(file)\n",
    "    df.to_sql(table, con=engine_product, if_exists=\"replace\", index=False)\n",
    "    print(f\"✅ Imported {file} to product_db.{table}\")"
   ]
  },
  {
   "cell_type": "code",
   "execution_count": 8,
   "id": "b6f3f8ec-f4ce-463f-a07f-cab15adae20c",
   "metadata": {},
   "outputs": [
    {
     "name": "stdout",
     "output_type": "stream",
     "text": [
      "✅ Imported customers.csv to customer_db.customers\n",
      "✅ Imported cities.csv to customer_db.cities\n",
      "✅ Imported countries.csv to customer_db.countries\n"
     ]
    }
   ],
   "source": [
    "#Import Data to customer_db\n",
    "\n",
    "# connect to customer_db\n",
    "engine_customer = create_engine(\" \")# Replace AWS address infomation\n",
    "\n",
    "customer_tables = {\n",
    "    \"customers.csv\": \"customers\",\n",
    "    \"cities.csv\": \"cities\",\n",
    "    \"countries.csv\": \"countries\"\n",
    "}\n",
    "\n",
    "# Import Data\n",
    "for file, table in customer_tables.items():\n",
    "    df = pd.read_csv(file)\n",
    "    df.to_sql(table, con=engine_customer, if_exists=\"replace\", index=False)\n",
    "    print(f\"✅ Imported {file} to customer_db.{table}\")"
   ]
  },
  {
   "cell_type": "code",
   "execution_count": 10,
   "id": "1943ba4c-290a-4d69-826b-9f886097526c",
   "metadata": {},
   "outputs": [
    {
     "name": "stdout",
     "output_type": "stream",
     "text": [
      "✅ Imported orders.csv to order_db.orders\n",
      "✅ Imported order_customers.csv to order_db.order_customers\n"
     ]
    }
   ],
   "source": [
    "#Import Data to order_db\n",
    "import pandas as pd\n",
    "from sqlalchemy import create_engine\n",
    "\n",
    "# Connect to product_db\n",
    "engine_order = create_engine(\"\")# Replace AWS address infomation\n",
    "\n",
    "order_tables = {\n",
    "    \"orders.csv\": \"orders\",\n",
    "    \"order_customers.csv\": \"order_customers\"\n",
    "}\n",
    "\n",
    "# Import Data\n",
    "for file, table in order_tables.items():\n",
    "    df = pd.read_csv(file)\n",
    "    df.to_sql(table, con=engine_product, if_exists=\"replace\", index=False)\n",
    "    print(f\"✅ Imported {file} to order_db.{table}\")"
   ]
  },
  {
   "cell_type": "markdown",
   "id": "0151be84-6ce5-4570-9f4d-9e1346086293",
   "metadata": {},
   "source": [
    "### 2.2 OpenAI LLM Prompt"
   ]
  },
  {
   "cell_type": "code",
   "execution_count": 14,
   "id": "bb9d7409-8f71-44eb-ab6c-398a46272f56",
   "metadata": {},
   "outputs": [],
   "source": [
    "sql_prompt_product = \"\"\"\n",
    "You are a SQL expert. Given a user's natural language request, generate the appropriate SQL query. \n",
    "You can use any valid SQL operation, including SELECT, INSERT, UPDATE, DELETE, CREATE, etc., depending on what the user is asking for.\n",
    "Return only the SQL code without any explanation.\n",
    "\n",
    "The database schema includes the following tables in database `product_db`:\n",
    "\n",
    "Table: products (ProductID, ProductName, Price, CategoryID)\n",
    "Table: categories (CategoryID, CategoryName)\n",
    "\n",
    "❗Rules:\n",
    "- Do NOT include explanations, only return the SQL SELECT statement.\n",
    "- Use JOINs if necessary.\n",
    "- Assume the database is named product_db.\n",
    "\n",
    "Note: Whenever use GROUP BY, remember that all non-aggregate fields must appear in GROUP BY (MySQL default behavior) or use aggregate functions on these fields (such as MIN(cities.CityName))\n",
    "Note: Use OFFSET for skip, and the format should be \"LIMIT a OFFSET b\"\n",
    "\n",
    "For schema exploration, always use: SHOW TABLES;\n",
    "Do not use `information_schema.tables` unless explicitly asked for schema metadata.\n",
    "\"\"\"\n",
    "\n",
    "sql_prompt_customer = \"\"\"\n",
    "You are a SQL expert. Given a user's natural language request, generate the appropriate SQL query. \n",
    "You can use any valid SQL operation, including SELECT, INSERT, UPDATE, DELETE, CREATE, etc., depending on what the user is asking for.\n",
    "Return only the SQL code without any explanation.\n",
    "\n",
    "The database schema includes the following tables in database `customer_db`:\n",
    "\n",
    "Table: customers (CustomerID, FirstName, MiddleInitial, LastName, CityID, Address)\n",
    "Table: cities (CityID, CityName, Zipcode, CountryID)\n",
    "Table: countries (CountryID, CountryName, CountryCode)\n",
    "\n",
    "Note that there is no CountryID in table customers, so have to connect customers with cities and countries to check for countries.\n",
    "\n",
    "❗Rules:\n",
    "- Do NOT include explanations, only return the SQL SELECT statement.\n",
    "- Use JOINs if necessary.\n",
    "- Assume the database is named customer_db.\n",
    "\n",
    "Note: Whenever use GROUP BY, remember that all non-aggregate fields must appear in GROUP BY (MySQL default behavior) or use aggregate functions on these fields (such as MIN(cities.CityName))\n",
    "Note: Use OFFSET for skip, and the format should be \"LIMIT a OFFSET b\"\n",
    "\n",
    "For schema exploration, always use: SHOW TABLES;\n",
    "Do not use `information_schema.tables` unless explicitly asked for schema metadata.\n",
    "\"\"\"\n",
    "\n",
    "\n",
    "sql_prompt_order = \"\"\"\n",
    "You are a SQL expert. Given a user's natural language request, generate the appropriate SQL query. \n",
    "You can use any valid SQL operation, including SELECT, INSERT, UPDATE, DELETE, CREATE, etc., depending on what the user is asking for.\n",
    "Return only the SQL code without any explanation.\n",
    "\n",
    "The database schema includes the following tables in database `order_db`:\n",
    "\n",
    "Table: orders (order_id, order_date, customer_id, total_price) \n",
    "Table: order_customers (customer_id, first_name, last_name, address, email, phone_number)\n",
    "\n",
    "Note: If all the infomation that given and request are in the same table, do NOT need to use join.\n",
    "Note: Whenever use GROUP BY, remember that all non-aggregate fields must appear in GROUP BY (MySQL default behavior) or use aggregate functions on these fields (such as MIN(cities.CityName))\n",
    "Note: Use OFFSET for skip, and the format should be \"LIMIT a OFFSET b\"\n",
    "\n",
    "❗Rules:\n",
    "- Do NOT include explanations, only return the SQL SELECT statement.\n",
    "- Use JOINs if necessary.\n",
    "- Assume the database is named order_db.\n",
    "\n",
    "For schema exploration, always use: SHOW TABLES;\n",
    "Do not use `information_schema.tables` unless explicitly asked for schema metadata.\n",
    "\"\"\""
   ]
  },
  {
   "cell_type": "markdown",
   "id": "2a3114ed-3392-4356-9aa3-cbfcb779338a",
   "metadata": {},
   "source": [
    "### 2.3 Select the Data Base"
   ]
  },
  {
   "cell_type": "code",
   "execution_count": 17,
   "id": "9a312c2a-1f26-4e46-9931-17724cfe9572",
   "metadata": {},
   "outputs": [],
   "source": [
    "selected_db = \"customer\"  # Choose from \"customer\" or \"product\" or \"order\""
   ]
  },
  {
   "cell_type": "code",
   "execution_count": 19,
   "id": "01ee2e27-5821-4b87-bb29-9e751aaa3f11",
   "metadata": {},
   "outputs": [],
   "source": [
    "# Choose the database\n",
    "import openai\n",
    "\n",
    "client = openai.OpenAI(api_key=\"\")  # Replace OpenAI API key\n",
    "\n",
    "if selected_db == \"product\":\n",
    "    sql_prompt = sql_prompt_product\n",
    "    engine = engine_product\n",
    "elif selected_db == \"customer\":\n",
    "    sql_prompt = sql_prompt_customer\n",
    "    engine = engine_customer\n",
    "elif selected_db == \"order\":\n",
    "    sql_prompt = sql_prompt_order\n",
    "    engine = engine_order"
   ]
  },
  {
   "cell_type": "markdown",
   "id": "2e8b32a1-f3c4-4e8c-b40f-42c75d4824f3",
   "metadata": {},
   "source": [
    "### 2.4 Input the Natural Language"
   ]
  },
  {
   "cell_type": "code",
   "execution_count": 30,
   "id": "5580c6e2-ffcc-4ceb-9052-9e8c7bb62691",
   "metadata": {},
   "outputs": [],
   "source": [
    "user_input_test = \"What is the address of customer named Lee Zhang\" #User input the natural language query"
   ]
  },
  {
   "cell_type": "markdown",
   "id": "4ec4c281-5720-438c-815f-46f4c0905392",
   "metadata": {},
   "source": [
    "### 2.5 LLM Convert Natural Language to SQL query Language"
   ]
  },
  {
   "cell_type": "code",
   "execution_count": 33,
   "id": "84ad4fe6-a4da-45fe-8e5c-dbc6d652d74a",
   "metadata": {},
   "outputs": [
    {
     "name": "stdout",
     "output_type": "stream",
     "text": [
      "🧠 GPT generated SQL query：\n",
      " SELECT Address\n",
      "FROM customers\n",
      "WHERE FirstName = 'Lee' AND LastName = 'Zhang';\n"
     ]
    }
   ],
   "source": [
    "#Receive Request and convert to SQL Language\n",
    "\n",
    "response = client.chat.completions.create(\n",
    "    model=\"gpt-3.5-turbo\",\n",
    "    messages=[\n",
    "        {\"role\": \"system\", \"content\": sql_prompt},\n",
    "        {\"role\": \"user\", \"content\": user_input_test}\n",
    "    ]\n",
    ")\n",
    "\n",
    "generated_sql = response.choices[0].message.content.strip()\n",
    "\n",
    "if generated_sql.startswith(\"```sql\"):\n",
    "    generated_sql = generated_sql[6:]  \n",
    "if generated_sql.endswith(\"```\"):\n",
    "    generated_sql = generated_sql[:-3]  \n",
    "\n",
    "print(\"🧠 GPT generated SQL query：\\n\", generated_sql)\n"
   ]
  },
  {
   "cell_type": "markdown",
   "id": "29cee9e0-b318-4fa4-b3e1-43b3ac1fe8a8",
   "metadata": {},
   "source": [
    "### 2.6 Output the Query Result"
   ]
  },
  {
   "cell_type": "code",
   "execution_count": 36,
   "id": "5825decd-0c24-4240-b6d4-53a2e1718633",
   "metadata": {},
   "outputs": [
    {
     "name": "stdout",
     "output_type": "stream",
     "text": [
      "\n",
      "📄 Query Result is\n",
      "('921 White Fabien Avenue',)\n"
     ]
    }
   ],
   "source": [
    "from sqlalchemy import text\n",
    "\n",
    "sql_statements = [stmt.strip() for stmt in generated_sql.split(\";\") if stmt.strip()]\n",
    "\n",
    "for stmt in sql_statements:\n",
    "    try:\n",
    "        with engine.connect() as conn:\n",
    "            result = conn.execute(text(stmt))\n",
    "\n",
    "            if stmt.strip().lower().startswith((\"select\", \"show\", \"describe\")):\n",
    "                rows = result.fetchall()\n",
    "                print(f\"\\n📄 Query Result is\")\n",
    "                for row in rows:\n",
    "                    print(row)\n",
    "            else:\n",
    "                conn.commit()\n",
    "                print(f\"\\n✅ Data operation executed successfully for: {stmt}\")\n",
    "    except Exception as e:\n",
    "        print(f\"\\n❌ Failed to execute: {stmt}\")\n",
    "        print(\"   Error:\", e)"
   ]
  },
  {
   "cell_type": "markdown",
   "id": "2b5d94c0-4427-47c9-a37d-20b068d7e6d5",
   "metadata": {},
   "source": [
    "# 3️⃣ NoSQL Part: MongoDB"
   ]
  },
  {
   "cell_type": "markdown",
   "id": "dc61cfa9-2269-4058-8e79-8b912dcf7742",
   "metadata": {},
   "source": [
    "## DataBase#1: Customer"
   ]
  },
  {
   "cell_type": "markdown",
   "id": "5737f1c5-20f5-4b0b-9b13-0501aeb2e918",
   "metadata": {},
   "source": [
    "### Prepare Work"
   ]
  },
  {
   "cell_type": "code",
   "execution_count": 40,
   "id": "a9f03e13-fcfd-4eed-b71f-945a19d48fa9",
   "metadata": {},
   "outputs": [
    {
     "name": "stdout",
     "output_type": "stream",
     "text": [
      "✅ Imported countries.csv to 'countries' collection successfully!\n",
      "✅ Imported cities.csv to 'cities' collection successfully!\n",
      "✅ Imported customers.csv to 'customers' collection successfully!\n"
     ]
    }
   ],
   "source": [
    "from pymongo import MongoClient\n",
    "import pandas as pd\n",
    "import openai\n",
    "\n",
    "client = MongoClient(\"\")#Replace AWS address infomation\n",
    "db = client[\"customer_db\"]\n",
    "\n",
    "files_and_collections = {\n",
    "    \"countries.csv\": \"countries\",\n",
    "    \"cities.csv\": \"cities\",\n",
    "    \"customers.csv\": \"customers\"\n",
    "}\n",
    "\n",
    "for file, collection_name in files_and_collections.items():\n",
    "    df = pd.read_csv(file)\n",
    "    data = df.to_dict(orient=\"records\")\n",
    "    collection = db[collection_name]\n",
    "    collection.insert_many(data)\n",
    "    print(f\"✅ Imported {file} to '{collection_name}' collection successfully!\")\n",
    "\n",
    "client_ai = openai.OpenAI(api_key=\"\")#Replace OpenAI API key\n"
   ]
  },
  {
   "cell_type": "markdown",
   "id": "b352d82b-429e-4604-b52a-d965831c9294",
   "metadata": {},
   "source": [
    "### Prompt"
   ]
  },
  {
   "cell_type": "code",
   "execution_count": 42,
   "id": "6ea1e916-b3b1-4836-8eea-1409e1d1bf88",
   "metadata": {},
   "outputs": [],
   "source": [
    "def generate_prompt(user_query):\n",
    "    return f\"\"\"\n",
    "You are a MongoDB assistant.\n",
    "\n",
    "You are working with a MongoDB database. The main variable is db. It has three collections:\n",
    "- countries (CountryID, CountryName, CountryCode)\n",
    "- cities (CityID, CityName, Zipcode, CountryID)\n",
    "- customers (CustomerID, FirstName, MiddleInitial, LastName, CityID, Address)\n",
    "\n",
    "Understand the user's natural language query and return a **valid MongoDB command using PyMongo** in Python.\n",
    "\n",
    "⚠️ Always do the following:\n",
    "- Assign the result to a variable named `results`, e.g., `results = db.customers.find({...})`\n",
    "- If it is an insert, assign to `result`, e.g., `result = db.countries.insert_one({...})`\n",
    "- If it is a delete, assign to `result`, e.g., `result = db.cities.delete_many({...})`\n",
    "- If it is an aggregation, assign to `results`, e.g., `results = db.customers.aggregate([...])`\n",
    "- If it is an update, assign to `result`, e.g., `result = db.customers.update_one({{...}}, {{'$set': {{...}}}})`\n",
    "    - If the update value is fetched from another collection (e.g., setting `CityID` to the ID of a city), use `find_one()` first and assign to a temp variable, then use it in `update_one`\n",
    "- If listing collection names, assign to `results`, e.g., `results = db.list_collection_names()`\n",
    "\n",
    "When using $lookup to join collections:\n",
    "- Join customers with cities using CityID\n",
    "- Join cities with countries using CountryID\n",
    "- You may use nested $lookup if needed\n",
    "- If $lookup is used, always follow with $unwind before $match.\n",
    "\n",
    "Always use $project to return only relevant fields.\n",
    "Always return a single variable named `results` or `result` depending on context.\n",
    "Return only executable Python code (no markdown, no explanation).\n",
    "\n",
    "User query: \"{user_query}\"\n",
    "\"\"\"\n"
   ]
  },
  {
   "cell_type": "markdown",
   "id": "78ac94bc-fa75-4cc9-9894-d57c21827220",
   "metadata": {},
   "source": [
    "### User Input"
   ]
  },
  {
   "cell_type": "code",
   "execution_count": 46,
   "id": "a6696c3f-31ea-485c-b2c8-4dba3afd902d",
   "metadata": {},
   "outputs": [],
   "source": [
    "user_query = \"How many people are from each city, only show cities with people less than 1000\""
   ]
  },
  {
   "cell_type": "markdown",
   "id": "01164d0c-edff-4588-b93a-30326514a4ef",
   "metadata": {
    "jp-MarkdownHeadingCollapsed": true
   },
   "source": [
    "### OpenAI Generate Query"
   ]
  },
  {
   "cell_type": "code",
   "execution_count": 49,
   "id": "4007c756-6bdf-4421-8291-ced64e4459ed",
   "metadata": {},
   "outputs": [
    {
     "name": "stdout",
     "output_type": "stream",
     "text": [
      "ChatGPT generated MongoDB query:\n",
      "\n",
      "results = db.customers.aggregate([\n",
      "    {\n",
      "        \"$lookup\": {\n",
      "            \"from\": \"cities\",\n",
      "            \"localField\": \"CityID\",\n",
      "            \"foreignField\": \"CityID\",\n",
      "            \"as\": \"city_info\"\n",
      "        }\n",
      "    },\n",
      "    {\n",
      "        \"$unwind\": \"$city_info\"\n",
      "    },\n",
      "    {\n",
      "        \"$group\": {\n",
      "            \"_id\": \"$city_info.CityName\",\n",
      "            \"count\": {\"$sum\": 1}\n",
      "        }\n",
      "    },\n",
      "    {\n",
      "        \"$match\": {\n",
      "            \"count\": {\"$lt\": 1000}\n",
      "        }\n",
      "    },\n",
      "    {\n",
      "        \"$project\": {\n",
      "            \"_id\": 0,\n",
      "            \"CityName\": \"$_id\",\n",
      "            \"Count\": \"$count\"\n",
      "        }\n",
      "    }\n",
      "])\n"
     ]
    }
   ],
   "source": [
    "prompt = generate_prompt(user_query)\n",
    "\n",
    "response = client_ai.chat.completions.create(\n",
    "    model=\"gpt-4\",\n",
    "    messages=[{\"role\": \"user\", \"content\": prompt}],\n",
    "    temperature=0\n",
    ")\n",
    "\n",
    "mongo_query_str = response.choices[0].message.content\n",
    "print(\"ChatGPT generated MongoDB query:\\n\")\n",
    "print(mongo_query_str)\n"
   ]
  },
  {
   "cell_type": "markdown",
   "id": "3157df02-0e00-46ac-8373-f6bad32906a1",
   "metadata": {},
   "source": [
    "### Final Output"
   ]
  },
  {
   "cell_type": "code",
   "execution_count": 52,
   "id": "e9313b12-dc7e-4004-bd73-05b3112faa33",
   "metadata": {},
   "outputs": [
    {
     "ename": "KeyboardInterrupt",
     "evalue": "",
     "output_type": "error",
     "traceback": [
      "\u001b[0;31m---------------------------------------------------------------------------\u001b[0m",
      "\u001b[0;31mKeyboardInterrupt\u001b[0m                         Traceback (most recent call last)",
      "Cell \u001b[0;32mIn[52], line 18\u001b[0m\n\u001b[1;32m     16\u001b[0m \u001b[38;5;28;01mtry\u001b[39;00m:\n\u001b[1;32m     17\u001b[0m     exec_locals \u001b[38;5;241m=\u001b[39m {\u001b[38;5;124m\"\u001b[39m\u001b[38;5;124mdb\u001b[39m\u001b[38;5;124m\"\u001b[39m: db}\n\u001b[0;32m---> 18\u001b[0m     exec(code_str, {}, exec_locals)\n\u001b[1;32m     20\u001b[0m     \u001b[38;5;66;03m# ✅ Query result only when 'results' is actually defined\u001b[39;00m\n\u001b[1;32m     21\u001b[0m     \u001b[38;5;28;01mif\u001b[39;00m \u001b[38;5;124m\"\u001b[39m\u001b[38;5;124mresults\u001b[39m\u001b[38;5;124m\"\u001b[39m \u001b[38;5;129;01min\u001b[39;00m exec_locals:\n",
      "File \u001b[0;32m<string>:1\u001b[0m\n",
      "File \u001b[0;32m/opt/anaconda3/lib/python3.12/site-packages/pymongo/synchronous/collection.py:2979\u001b[0m, in \u001b[0;36mCollection.aggregate\u001b[0;34m(self, pipeline, session, let, comment, **kwargs)\u001b[0m\n\u001b[1;32m   2902\u001b[0m \u001b[38;5;250m\u001b[39m\u001b[38;5;124;03m\"\"\"Perform an aggregation using the aggregation framework on this\u001b[39;00m\n\u001b[1;32m   2903\u001b[0m \u001b[38;5;124;03mcollection.\u001b[39;00m\n\u001b[1;32m   2904\u001b[0m \n\u001b[0;32m   (...)\u001b[0m\n\u001b[1;32m   2976\u001b[0m \u001b[38;5;124;03m    https://mongodb.com/docs/manual/reference/command/aggregate\u001b[39;00m\n\u001b[1;32m   2977\u001b[0m \u001b[38;5;124;03m\"\"\"\u001b[39;00m\n\u001b[1;32m   2978\u001b[0m \u001b[38;5;28;01mwith\u001b[39;00m \u001b[38;5;28mself\u001b[39m\u001b[38;5;241m.\u001b[39m_database\u001b[38;5;241m.\u001b[39mclient\u001b[38;5;241m.\u001b[39m_tmp_session(session, close\u001b[38;5;241m=\u001b[39m\u001b[38;5;28;01mFalse\u001b[39;00m) \u001b[38;5;28;01mas\u001b[39;00m s:\n\u001b[0;32m-> 2979\u001b[0m     \u001b[38;5;28;01mreturn\u001b[39;00m \u001b[38;5;28mself\u001b[39m\u001b[38;5;241m.\u001b[39m_aggregate(\n\u001b[1;32m   2980\u001b[0m         _CollectionAggregationCommand,\n\u001b[1;32m   2981\u001b[0m         pipeline,\n\u001b[1;32m   2982\u001b[0m         CommandCursor,\n\u001b[1;32m   2983\u001b[0m         session\u001b[38;5;241m=\u001b[39ms,\n\u001b[1;32m   2984\u001b[0m         explicit_session\u001b[38;5;241m=\u001b[39msession \u001b[38;5;129;01mis\u001b[39;00m \u001b[38;5;129;01mnot\u001b[39;00m \u001b[38;5;28;01mNone\u001b[39;00m,\n\u001b[1;32m   2985\u001b[0m         let\u001b[38;5;241m=\u001b[39mlet,\n\u001b[1;32m   2986\u001b[0m         comment\u001b[38;5;241m=\u001b[39mcomment,\n\u001b[1;32m   2987\u001b[0m         \u001b[38;5;241m*\u001b[39m\u001b[38;5;241m*\u001b[39mkwargs,\n\u001b[1;32m   2988\u001b[0m     )\n",
      "File \u001b[0;32m/opt/anaconda3/lib/python3.12/site-packages/pymongo/_csot.py:119\u001b[0m, in \u001b[0;36mapply.<locals>.csot_wrapper\u001b[0;34m(self, *args, **kwargs)\u001b[0m\n\u001b[1;32m    117\u001b[0m         \u001b[38;5;28;01mwith\u001b[39;00m _TimeoutContext(timeout):\n\u001b[1;32m    118\u001b[0m             \u001b[38;5;28;01mreturn\u001b[39;00m func(\u001b[38;5;28mself\u001b[39m, \u001b[38;5;241m*\u001b[39margs, \u001b[38;5;241m*\u001b[39m\u001b[38;5;241m*\u001b[39mkwargs)\n\u001b[0;32m--> 119\u001b[0m \u001b[38;5;28;01mreturn\u001b[39;00m func(\u001b[38;5;28mself\u001b[39m, \u001b[38;5;241m*\u001b[39margs, \u001b[38;5;241m*\u001b[39m\u001b[38;5;241m*\u001b[39mkwargs)\n",
      "File \u001b[0;32m/opt/anaconda3/lib/python3.12/site-packages/pymongo/synchronous/collection.py:2886\u001b[0m, in \u001b[0;36mCollection._aggregate\u001b[0;34m(self, aggregation_command, pipeline, cursor_class, session, explicit_session, let, comment, **kwargs)\u001b[0m\n\u001b[1;32m   2875\u001b[0m     kwargs[\u001b[38;5;124m\"\u001b[39m\u001b[38;5;124mcomment\u001b[39m\u001b[38;5;124m\"\u001b[39m] \u001b[38;5;241m=\u001b[39m comment\n\u001b[1;32m   2876\u001b[0m cmd \u001b[38;5;241m=\u001b[39m aggregation_command(\n\u001b[1;32m   2877\u001b[0m     \u001b[38;5;28mself\u001b[39m,\n\u001b[1;32m   2878\u001b[0m     cursor_class,\n\u001b[0;32m   (...)\u001b[0m\n\u001b[1;32m   2883\u001b[0m     user_fields\u001b[38;5;241m=\u001b[39m{\u001b[38;5;124m\"\u001b[39m\u001b[38;5;124mcursor\u001b[39m\u001b[38;5;124m\"\u001b[39m: {\u001b[38;5;124m\"\u001b[39m\u001b[38;5;124mfirstBatch\u001b[39m\u001b[38;5;124m\"\u001b[39m: \u001b[38;5;241m1\u001b[39m}},\n\u001b[1;32m   2884\u001b[0m )\n\u001b[0;32m-> 2886\u001b[0m \u001b[38;5;28;01mreturn\u001b[39;00m \u001b[38;5;28mself\u001b[39m\u001b[38;5;241m.\u001b[39m_database\u001b[38;5;241m.\u001b[39mclient\u001b[38;5;241m.\u001b[39m_retryable_read(\n\u001b[1;32m   2887\u001b[0m     cmd\u001b[38;5;241m.\u001b[39mget_cursor,\n\u001b[1;32m   2888\u001b[0m     cmd\u001b[38;5;241m.\u001b[39mget_read_preference(session),  \u001b[38;5;66;03m# type: ignore[arg-type]\u001b[39;00m\n\u001b[1;32m   2889\u001b[0m     session,\n\u001b[1;32m   2890\u001b[0m     retryable\u001b[38;5;241m=\u001b[39m\u001b[38;5;129;01mnot\u001b[39;00m cmd\u001b[38;5;241m.\u001b[39m_performs_write,\n\u001b[1;32m   2891\u001b[0m     operation\u001b[38;5;241m=\u001b[39m_Op\u001b[38;5;241m.\u001b[39mAGGREGATE,\n\u001b[1;32m   2892\u001b[0m )\n",
      "File \u001b[0;32m/opt/anaconda3/lib/python3.12/site-packages/pymongo/synchronous/mongo_client.py:2005\u001b[0m, in \u001b[0;36mMongoClient._retryable_read\u001b[0;34m(self, func, read_pref, session, operation, address, retryable, operation_id)\u001b[0m\n\u001b[1;32m   2000\u001b[0m \u001b[38;5;66;03m# Ensure that the client supports retrying on reads and there is no session in\u001b[39;00m\n\u001b[1;32m   2001\u001b[0m \u001b[38;5;66;03m# transaction, otherwise, we will not support retry behavior for this call.\u001b[39;00m\n\u001b[1;32m   2002\u001b[0m retryable \u001b[38;5;241m=\u001b[39m \u001b[38;5;28mbool\u001b[39m(\n\u001b[1;32m   2003\u001b[0m     retryable \u001b[38;5;129;01mand\u001b[39;00m \u001b[38;5;28mself\u001b[39m\u001b[38;5;241m.\u001b[39moptions\u001b[38;5;241m.\u001b[39mretry_reads \u001b[38;5;129;01mand\u001b[39;00m \u001b[38;5;129;01mnot\u001b[39;00m (session \u001b[38;5;129;01mand\u001b[39;00m session\u001b[38;5;241m.\u001b[39min_transaction)\n\u001b[1;32m   2004\u001b[0m )\n\u001b[0;32m-> 2005\u001b[0m \u001b[38;5;28;01mreturn\u001b[39;00m \u001b[38;5;28mself\u001b[39m\u001b[38;5;241m.\u001b[39m_retry_internal(\n\u001b[1;32m   2006\u001b[0m     func,\n\u001b[1;32m   2007\u001b[0m     session,\n\u001b[1;32m   2008\u001b[0m     \u001b[38;5;28;01mNone\u001b[39;00m,\n\u001b[1;32m   2009\u001b[0m     operation,\n\u001b[1;32m   2010\u001b[0m     is_read\u001b[38;5;241m=\u001b[39m\u001b[38;5;28;01mTrue\u001b[39;00m,\n\u001b[1;32m   2011\u001b[0m     address\u001b[38;5;241m=\u001b[39maddress,\n\u001b[1;32m   2012\u001b[0m     read_pref\u001b[38;5;241m=\u001b[39mread_pref,\n\u001b[1;32m   2013\u001b[0m     retryable\u001b[38;5;241m=\u001b[39mretryable,\n\u001b[1;32m   2014\u001b[0m     operation_id\u001b[38;5;241m=\u001b[39moperation_id,\n\u001b[1;32m   2015\u001b[0m )\n",
      "File \u001b[0;32m/opt/anaconda3/lib/python3.12/site-packages/pymongo/_csot.py:119\u001b[0m, in \u001b[0;36mapply.<locals>.csot_wrapper\u001b[0;34m(self, *args, **kwargs)\u001b[0m\n\u001b[1;32m    117\u001b[0m         \u001b[38;5;28;01mwith\u001b[39;00m _TimeoutContext(timeout):\n\u001b[1;32m    118\u001b[0m             \u001b[38;5;28;01mreturn\u001b[39;00m func(\u001b[38;5;28mself\u001b[39m, \u001b[38;5;241m*\u001b[39margs, \u001b[38;5;241m*\u001b[39m\u001b[38;5;241m*\u001b[39mkwargs)\n\u001b[0;32m--> 119\u001b[0m \u001b[38;5;28;01mreturn\u001b[39;00m func(\u001b[38;5;28mself\u001b[39m, \u001b[38;5;241m*\u001b[39margs, \u001b[38;5;241m*\u001b[39m\u001b[38;5;241m*\u001b[39mkwargs)\n",
      "File \u001b[0;32m/opt/anaconda3/lib/python3.12/site-packages/pymongo/synchronous/mongo_client.py:1972\u001b[0m, in \u001b[0;36mMongoClient._retry_internal\u001b[0;34m(self, func, session, bulk, operation, is_read, address, read_pref, retryable, operation_id)\u001b[0m\n\u001b[1;32m   1935\u001b[0m \u001b[38;5;129m@_csot\u001b[39m\u001b[38;5;241m.\u001b[39mapply\n\u001b[1;32m   1936\u001b[0m \u001b[38;5;28;01mdef\u001b[39;00m \u001b[38;5;21m_retry_internal\u001b[39m(\n\u001b[1;32m   1937\u001b[0m     \u001b[38;5;28mself\u001b[39m,\n\u001b[0;32m   (...)\u001b[0m\n\u001b[1;32m   1946\u001b[0m     operation_id: Optional[\u001b[38;5;28mint\u001b[39m] \u001b[38;5;241m=\u001b[39m \u001b[38;5;28;01mNone\u001b[39;00m,\n\u001b[1;32m   1947\u001b[0m ) \u001b[38;5;241m-\u001b[39m\u001b[38;5;241m>\u001b[39m T:\n\u001b[1;32m   1948\u001b[0m \u001b[38;5;250m    \u001b[39m\u001b[38;5;124;03m\"\"\"Internal retryable helper for all client transactions.\u001b[39;00m\n\u001b[1;32m   1949\u001b[0m \n\u001b[1;32m   1950\u001b[0m \u001b[38;5;124;03m    :param func: Callback function we want to retry\u001b[39;00m\n\u001b[0;32m   (...)\u001b[0m\n\u001b[1;32m   1959\u001b[0m \u001b[38;5;124;03m    :return: Output of the calling func()\u001b[39;00m\n\u001b[1;32m   1960\u001b[0m \u001b[38;5;124;03m    \"\"\"\u001b[39;00m\n\u001b[1;32m   1961\u001b[0m     \u001b[38;5;28;01mreturn\u001b[39;00m _ClientConnectionRetryable(\n\u001b[1;32m   1962\u001b[0m         mongo_client\u001b[38;5;241m=\u001b[39m\u001b[38;5;28mself\u001b[39m,\n\u001b[1;32m   1963\u001b[0m         func\u001b[38;5;241m=\u001b[39mfunc,\n\u001b[1;32m   1964\u001b[0m         bulk\u001b[38;5;241m=\u001b[39mbulk,\n\u001b[1;32m   1965\u001b[0m         operation\u001b[38;5;241m=\u001b[39moperation,\n\u001b[1;32m   1966\u001b[0m         is_read\u001b[38;5;241m=\u001b[39mis_read,\n\u001b[1;32m   1967\u001b[0m         session\u001b[38;5;241m=\u001b[39msession,\n\u001b[1;32m   1968\u001b[0m         read_pref\u001b[38;5;241m=\u001b[39mread_pref,\n\u001b[1;32m   1969\u001b[0m         address\u001b[38;5;241m=\u001b[39maddress,\n\u001b[1;32m   1970\u001b[0m         retryable\u001b[38;5;241m=\u001b[39mretryable,\n\u001b[1;32m   1971\u001b[0m         operation_id\u001b[38;5;241m=\u001b[39moperation_id,\n\u001b[0;32m-> 1972\u001b[0m     )\u001b[38;5;241m.\u001b[39mrun()\n",
      "File \u001b[0;32m/opt/anaconda3/lib/python3.12/site-packages/pymongo/synchronous/mongo_client.py:2709\u001b[0m, in \u001b[0;36m_ClientConnectionRetryable.run\u001b[0;34m(self)\u001b[0m\n\u001b[1;32m   2707\u001b[0m \u001b[38;5;28mself\u001b[39m\u001b[38;5;241m.\u001b[39m_check_last_error(check_csot\u001b[38;5;241m=\u001b[39m\u001b[38;5;28;01mTrue\u001b[39;00m)\n\u001b[1;32m   2708\u001b[0m \u001b[38;5;28;01mtry\u001b[39;00m:\n\u001b[0;32m-> 2709\u001b[0m     \u001b[38;5;28;01mreturn\u001b[39;00m \u001b[38;5;28mself\u001b[39m\u001b[38;5;241m.\u001b[39m_read() \u001b[38;5;28;01mif\u001b[39;00m \u001b[38;5;28mself\u001b[39m\u001b[38;5;241m.\u001b[39m_is_read \u001b[38;5;28;01melse\u001b[39;00m \u001b[38;5;28mself\u001b[39m\u001b[38;5;241m.\u001b[39m_write()\n\u001b[1;32m   2710\u001b[0m \u001b[38;5;28;01mexcept\u001b[39;00m ServerSelectionTimeoutError:\n\u001b[1;32m   2711\u001b[0m     \u001b[38;5;66;03m# The application may think the write was never attempted\u001b[39;00m\n\u001b[1;32m   2712\u001b[0m     \u001b[38;5;66;03m# if we raise ServerSelectionTimeoutError on the retry\u001b[39;00m\n\u001b[1;32m   2713\u001b[0m     \u001b[38;5;66;03m# attempt. Raise the original exception instead.\u001b[39;00m\n\u001b[1;32m   2714\u001b[0m     \u001b[38;5;28mself\u001b[39m\u001b[38;5;241m.\u001b[39m_check_last_error()\n",
      "File \u001b[0;32m/opt/anaconda3/lib/python3.12/site-packages/pymongo/synchronous/mongo_client.py:2870\u001b[0m, in \u001b[0;36m_ClientConnectionRetryable._read\u001b[0;34m(self)\u001b[0m\n\u001b[1;32m   2862\u001b[0m \u001b[38;5;28;01mif\u001b[39;00m \u001b[38;5;28mself\u001b[39m\u001b[38;5;241m.\u001b[39m_retrying:\n\u001b[1;32m   2863\u001b[0m     _debug_log(\n\u001b[1;32m   2864\u001b[0m         _COMMAND_LOGGER,\n\u001b[1;32m   2865\u001b[0m         message\u001b[38;5;241m=\u001b[39m\u001b[38;5;124mf\u001b[39m\u001b[38;5;124m\"\u001b[39m\u001b[38;5;124mRetrying read attempt number \u001b[39m\u001b[38;5;132;01m{\u001b[39;00m\u001b[38;5;28mself\u001b[39m\u001b[38;5;241m.\u001b[39m_attempt_number\u001b[38;5;132;01m}\u001b[39;00m\u001b[38;5;124m\"\u001b[39m,\n\u001b[0;32m   (...)\u001b[0m\n\u001b[1;32m   2868\u001b[0m         operationId\u001b[38;5;241m=\u001b[39m\u001b[38;5;28mself\u001b[39m\u001b[38;5;241m.\u001b[39m_operation_id,\n\u001b[1;32m   2869\u001b[0m     )\n\u001b[0;32m-> 2870\u001b[0m \u001b[38;5;28;01mreturn\u001b[39;00m \u001b[38;5;28mself\u001b[39m\u001b[38;5;241m.\u001b[39m_func(\u001b[38;5;28mself\u001b[39m\u001b[38;5;241m.\u001b[39m_session, \u001b[38;5;28mself\u001b[39m\u001b[38;5;241m.\u001b[39m_server, conn, read_pref)\n",
      "File \u001b[0;32m/opt/anaconda3/lib/python3.12/site-packages/pymongo/synchronous/aggregation.py:164\u001b[0m, in \u001b[0;36m_AggregationCommand.get_cursor\u001b[0;34m(self, session, server, conn, read_preference)\u001b[0m\n\u001b[1;32m    161\u001b[0m     write_concern \u001b[38;5;241m=\u001b[39m \u001b[38;5;28;01mNone\u001b[39;00m\n\u001b[1;32m    163\u001b[0m \u001b[38;5;66;03m# Run command.\u001b[39;00m\n\u001b[0;32m--> 164\u001b[0m result \u001b[38;5;241m=\u001b[39m conn\u001b[38;5;241m.\u001b[39mcommand(\n\u001b[1;32m    165\u001b[0m     \u001b[38;5;28mself\u001b[39m\u001b[38;5;241m.\u001b[39m_database\u001b[38;5;241m.\u001b[39mname,\n\u001b[1;32m    166\u001b[0m     cmd,\n\u001b[1;32m    167\u001b[0m     read_preference,\n\u001b[1;32m    168\u001b[0m     \u001b[38;5;28mself\u001b[39m\u001b[38;5;241m.\u001b[39m_target\u001b[38;5;241m.\u001b[39mcodec_options,\n\u001b[1;32m    169\u001b[0m     parse_write_concern_error\u001b[38;5;241m=\u001b[39m\u001b[38;5;28;01mTrue\u001b[39;00m,\n\u001b[1;32m    170\u001b[0m     read_concern\u001b[38;5;241m=\u001b[39mread_concern,\n\u001b[1;32m    171\u001b[0m     write_concern\u001b[38;5;241m=\u001b[39mwrite_concern,\n\u001b[1;32m    172\u001b[0m     collation\u001b[38;5;241m=\u001b[39m\u001b[38;5;28mself\u001b[39m\u001b[38;5;241m.\u001b[39m_collation,\n\u001b[1;32m    173\u001b[0m     session\u001b[38;5;241m=\u001b[39msession,\n\u001b[1;32m    174\u001b[0m     client\u001b[38;5;241m=\u001b[39m\u001b[38;5;28mself\u001b[39m\u001b[38;5;241m.\u001b[39m_database\u001b[38;5;241m.\u001b[39mclient,\n\u001b[1;32m    175\u001b[0m     user_fields\u001b[38;5;241m=\u001b[39m\u001b[38;5;28mself\u001b[39m\u001b[38;5;241m.\u001b[39m_user_fields,\n\u001b[1;32m    176\u001b[0m )\n\u001b[1;32m    178\u001b[0m \u001b[38;5;28;01mif\u001b[39;00m \u001b[38;5;28mself\u001b[39m\u001b[38;5;241m.\u001b[39m_result_processor:\n\u001b[1;32m    179\u001b[0m     \u001b[38;5;28mself\u001b[39m\u001b[38;5;241m.\u001b[39m_result_processor(result, conn)\n",
      "File \u001b[0;32m/opt/anaconda3/lib/python3.12/site-packages/pymongo/synchronous/helpers.py:47\u001b[0m, in \u001b[0;36m_handle_reauth.<locals>.inner\u001b[0;34m(*args, **kwargs)\u001b[0m\n\u001b[1;32m     44\u001b[0m \u001b[38;5;28;01mfrom\u001b[39;00m \u001b[38;5;21;01mpymongo\u001b[39;00m\u001b[38;5;21;01m.\u001b[39;00m\u001b[38;5;21;01msynchronous\u001b[39;00m\u001b[38;5;21;01m.\u001b[39;00m\u001b[38;5;21;01mpool\u001b[39;00m \u001b[38;5;28;01mimport\u001b[39;00m Connection\n\u001b[1;32m     46\u001b[0m \u001b[38;5;28;01mtry\u001b[39;00m:\n\u001b[0;32m---> 47\u001b[0m     \u001b[38;5;28;01mreturn\u001b[39;00m func(\u001b[38;5;241m*\u001b[39margs, \u001b[38;5;241m*\u001b[39m\u001b[38;5;241m*\u001b[39mkwargs)\n\u001b[1;32m     48\u001b[0m \u001b[38;5;28;01mexcept\u001b[39;00m OperationFailure \u001b[38;5;28;01mas\u001b[39;00m exc:\n\u001b[1;32m     49\u001b[0m     \u001b[38;5;28;01mif\u001b[39;00m no_reauth:\n",
      "File \u001b[0;32m/opt/anaconda3/lib/python3.12/site-packages/pymongo/synchronous/pool.py:438\u001b[0m, in \u001b[0;36mConnection.command\u001b[0;34m(self, dbname, spec, read_preference, codec_options, check, allowable_errors, read_concern, write_concern, parse_write_concern_error, collation, session, client, retryable_write, publish_events, user_fields, exhaust_allowed)\u001b[0m\n\u001b[1;32m    436\u001b[0m \u001b[38;5;66;03m# Catch socket.error, KeyboardInterrupt, CancelledError, etc. and close ourselves.\u001b[39;00m\n\u001b[1;32m    437\u001b[0m \u001b[38;5;28;01mexcept\u001b[39;00m \u001b[38;5;167;01mBaseException\u001b[39;00m \u001b[38;5;28;01mas\u001b[39;00m error:\n\u001b[0;32m--> 438\u001b[0m     \u001b[38;5;28mself\u001b[39m\u001b[38;5;241m.\u001b[39m_raise_connection_failure(error)\n",
      "File \u001b[0;32m/opt/anaconda3/lib/python3.12/site-packages/pymongo/synchronous/pool.py:410\u001b[0m, in \u001b[0;36mConnection.command\u001b[0;34m(self, dbname, spec, read_preference, codec_options, check, allowable_errors, read_concern, write_concern, parse_write_concern_error, collation, session, client, retryable_write, publish_events, user_fields, exhaust_allowed)\u001b[0m\n\u001b[1;32m    408\u001b[0m     \u001b[38;5;28mself\u001b[39m\u001b[38;5;241m.\u001b[39m_raise_if_not_writable(unacknowledged)\n\u001b[1;32m    409\u001b[0m \u001b[38;5;28;01mtry\u001b[39;00m:\n\u001b[0;32m--> 410\u001b[0m     \u001b[38;5;28;01mreturn\u001b[39;00m command(\n\u001b[1;32m    411\u001b[0m         \u001b[38;5;28mself\u001b[39m,\n\u001b[1;32m    412\u001b[0m         dbname,\n\u001b[1;32m    413\u001b[0m         spec,\n\u001b[1;32m    414\u001b[0m         \u001b[38;5;28mself\u001b[39m\u001b[38;5;241m.\u001b[39mis_mongos,\n\u001b[1;32m    415\u001b[0m         read_preference,\n\u001b[1;32m    416\u001b[0m         codec_options,\n\u001b[1;32m    417\u001b[0m         session,\n\u001b[1;32m    418\u001b[0m         client,\n\u001b[1;32m    419\u001b[0m         check,\n\u001b[1;32m    420\u001b[0m         allowable_errors,\n\u001b[1;32m    421\u001b[0m         \u001b[38;5;28mself\u001b[39m\u001b[38;5;241m.\u001b[39maddress,\n\u001b[1;32m    422\u001b[0m         listeners,\n\u001b[1;32m    423\u001b[0m         \u001b[38;5;28mself\u001b[39m\u001b[38;5;241m.\u001b[39mmax_bson_size,\n\u001b[1;32m    424\u001b[0m         read_concern,\n\u001b[1;32m    425\u001b[0m         parse_write_concern_error\u001b[38;5;241m=\u001b[39mparse_write_concern_error,\n\u001b[1;32m    426\u001b[0m         collation\u001b[38;5;241m=\u001b[39mcollation,\n\u001b[1;32m    427\u001b[0m         compression_ctx\u001b[38;5;241m=\u001b[39m\u001b[38;5;28mself\u001b[39m\u001b[38;5;241m.\u001b[39mcompression_context,\n\u001b[1;32m    428\u001b[0m         use_op_msg\u001b[38;5;241m=\u001b[39m\u001b[38;5;28mself\u001b[39m\u001b[38;5;241m.\u001b[39mop_msg_enabled,\n\u001b[1;32m    429\u001b[0m         unacknowledged\u001b[38;5;241m=\u001b[39munacknowledged,\n\u001b[1;32m    430\u001b[0m         user_fields\u001b[38;5;241m=\u001b[39muser_fields,\n\u001b[1;32m    431\u001b[0m         exhaust_allowed\u001b[38;5;241m=\u001b[39mexhaust_allowed,\n\u001b[1;32m    432\u001b[0m         write_concern\u001b[38;5;241m=\u001b[39mwrite_concern,\n\u001b[1;32m    433\u001b[0m     )\n\u001b[1;32m    434\u001b[0m \u001b[38;5;28;01mexcept\u001b[39;00m (OperationFailure, NotPrimaryError):\n\u001b[1;32m    435\u001b[0m     \u001b[38;5;28;01mraise\u001b[39;00m\n",
      "File \u001b[0;32m/opt/anaconda3/lib/python3.12/site-packages/pymongo/synchronous/network.py:198\u001b[0m, in \u001b[0;36mcommand\u001b[0;34m(conn, dbname, spec, is_mongos, read_preference, codec_options, session, client, check, allowable_errors, address, listeners, max_bson_size, read_concern, parse_write_concern_error, collation, compression_ctx, use_op_msg, unacknowledged, user_fields, exhaust_allowed, write_concern)\u001b[0m\n\u001b[1;32m    196\u001b[0m     response_doc: _DocumentOut \u001b[38;5;241m=\u001b[39m {\u001b[38;5;124m\"\u001b[39m\u001b[38;5;124mok\u001b[39m\u001b[38;5;124m\"\u001b[39m: \u001b[38;5;241m1\u001b[39m}\n\u001b[1;32m    197\u001b[0m \u001b[38;5;28;01melse\u001b[39;00m:\n\u001b[0;32m--> 198\u001b[0m     reply \u001b[38;5;241m=\u001b[39m receive_message(conn, request_id)\n\u001b[1;32m    199\u001b[0m     conn\u001b[38;5;241m.\u001b[39mmore_to_come \u001b[38;5;241m=\u001b[39m reply\u001b[38;5;241m.\u001b[39mmore_to_come\n\u001b[1;32m    200\u001b[0m     unpacked_docs \u001b[38;5;241m=\u001b[39m reply\u001b[38;5;241m.\u001b[39munpack_response(\n\u001b[1;32m    201\u001b[0m         codec_options\u001b[38;5;241m=\u001b[39mcodec_options, user_fields\u001b[38;5;241m=\u001b[39muser_fields\n\u001b[1;32m    202\u001b[0m     )\n",
      "File \u001b[0;32m/opt/anaconda3/lib/python3.12/site-packages/pymongo/network_layer.py:755\u001b[0m, in \u001b[0;36mreceive_message\u001b[0;34m(conn, request_id, max_message_size)\u001b[0m\n\u001b[1;32m    753\u001b[0m         deadline \u001b[38;5;241m=\u001b[39m \u001b[38;5;28;01mNone\u001b[39;00m\n\u001b[1;32m    754\u001b[0m \u001b[38;5;66;03m# Ignore the response's request id.\u001b[39;00m\n\u001b[0;32m--> 755\u001b[0m length, _, response_to, op_code \u001b[38;5;241m=\u001b[39m _UNPACK_HEADER(receive_data(conn, \u001b[38;5;241m16\u001b[39m, deadline))\n\u001b[1;32m    756\u001b[0m \u001b[38;5;66;03m# No request_id for exhaust cursor \"getMore\".\u001b[39;00m\n\u001b[1;32m    757\u001b[0m \u001b[38;5;28;01mif\u001b[39;00m request_id \u001b[38;5;129;01mis\u001b[39;00m \u001b[38;5;129;01mnot\u001b[39;00m \u001b[38;5;28;01mNone\u001b[39;00m:\n",
      "File \u001b[0;32m/opt/anaconda3/lib/python3.12/site-packages/pymongo/network_layer.py:355\u001b[0m, in \u001b[0;36mreceive_data\u001b[0;34m(conn, length, deadline)\u001b[0m\n\u001b[1;32m    352\u001b[0m             short_timeout \u001b[38;5;241m=\u001b[39m _POLL_TIMEOUT\n\u001b[1;32m    353\u001b[0m         conn\u001b[38;5;241m.\u001b[39mset_conn_timeout(short_timeout)\n\u001b[0;32m--> 355\u001b[0m     chunk_length \u001b[38;5;241m=\u001b[39m conn\u001b[38;5;241m.\u001b[39mconn\u001b[38;5;241m.\u001b[39mrecv_into(mv[bytes_read:])\n\u001b[1;32m    356\u001b[0m \u001b[38;5;28;01mexcept\u001b[39;00m BLOCKING_IO_ERRORS:\n\u001b[1;32m    357\u001b[0m     \u001b[38;5;28;01mif\u001b[39;00m conn\u001b[38;5;241m.\u001b[39mcancel_context\u001b[38;5;241m.\u001b[39mcancelled:\n",
      "File \u001b[0;32m/opt/anaconda3/lib/python3.12/site-packages/pymongo/network_layer.py:465\u001b[0m, in \u001b[0;36mNetworkingInterface.recv_into\u001b[0;34m(self, buffer)\u001b[0m\n\u001b[1;32m    464\u001b[0m \u001b[38;5;28;01mdef\u001b[39;00m \u001b[38;5;21mrecv_into\u001b[39m(\u001b[38;5;28mself\u001b[39m, buffer: \u001b[38;5;28mbytes\u001b[39m) \u001b[38;5;241m-\u001b[39m\u001b[38;5;241m>\u001b[39m \u001b[38;5;28mint\u001b[39m:\n\u001b[0;32m--> 465\u001b[0m     \u001b[38;5;28;01mreturn\u001b[39;00m \u001b[38;5;28mself\u001b[39m\u001b[38;5;241m.\u001b[39mconn\u001b[38;5;241m.\u001b[39mrecv_into(buffer)\n",
      "\u001b[0;31mKeyboardInterrupt\u001b[0m: "
     ]
    }
   ],
   "source": [
    "import json\n",
    "\n",
    "response = client_ai.chat.completions.create(\n",
    "    model=\"gpt-4\",\n",
    "    messages=[{\"role\": \"user\", \"content\": generate_prompt(user_query)}],\n",
    "    temperature=0\n",
    ")\n",
    "\n",
    "code_str = response.choices[0].message.content.strip()\n",
    "\n",
    "if code_str.startswith(\"```python\"):\n",
    "    code_str = code_str[len(\"```python\"):].strip()\n",
    "if code_str.endswith(\"```\"):\n",
    "    code_str = code_str[:-3].strip()\n",
    "\n",
    "try:\n",
    "    exec_locals = {\"db\": db}\n",
    "    exec(code_str, {}, exec_locals)\n",
    "\n",
    "    # ✅ Query result only when 'results' is actually defined\n",
    "    if \"results\" in exec_locals:\n",
    "        print(\"\\n📋 Query Result:\\n\")\n",
    "        results = exec_locals[\"results\"]\n",
    "\n",
    "        if isinstance(results, list):\n",
    "            for doc in results:\n",
    "                print(doc)\n",
    "        elif isinstance(results, dict):\n",
    "            print(results)\n",
    "        elif hasattr(results, \"__iter__\") and not isinstance(results, str):\n",
    "            print(\"📎 Cursor result：\\n\")\n",
    "            for doc in list(results):\n",
    "                print(doc)\n",
    "        else:\n",
    "            print(results)\n",
    "\n",
    "    # Insert\n",
    "    if \"insert_one\" in code_str or \"insert_many\" in code_str:\n",
    "        print(\"✅ Insert Successfully:\", exec_locals.get(\"result\", \"OK\"))\n",
    "\n",
    "    # Delete\n",
    "    if \"delete_one\" in code_str or \"delete_many\" in code_str:\n",
    "        print(\"🗑 Delete Successfully，Number:\", exec_locals[\"result\"].deleted_count)\n",
    "\n",
    "    # Update\n",
    "    if \"update_one\" in code_str or \"update_many\" in code_str:\n",
    "        print(\"🔧 Update Successfully，Match:\", exec_locals[\"result\"].matched_count)\n",
    "        print(\"📝 Change:\", exec_locals[\"result\"].modified_count)\n",
    "\n",
    "    print(\"\\n✅ Finished\")\n",
    "\n",
    "except Exception as e:\n",
    "    print(\"❌ Error:\", e)"
   ]
  },
  {
   "cell_type": "markdown",
   "id": "671123a0-833a-4c67-8547-380e8c1dc41f",
   "metadata": {},
   "source": [
    "## DataBase#2: Products"
   ]
  },
  {
   "cell_type": "markdown",
   "id": "4043bb90-b889-4234-87b7-2724cf809c63",
   "metadata": {},
   "source": [
    "### Prepare Work"
   ]
  },
  {
   "cell_type": "code",
   "execution_count": 56,
   "id": "cb7feb67-c62a-44f5-96cf-7a729653d7cd",
   "metadata": {},
   "outputs": [
    {
     "name": "stdout",
     "output_type": "stream",
     "text": [
      "✅ Imported categories.csv to 'categories' collection successfully!\n",
      "✅ Imported products.csv to 'products' collection successfully!\n"
     ]
    }
   ],
   "source": [
    "from pymongo import MongoClient\n",
    "import pandas as pd\n",
    "import openai\n",
    "\n",
    "client = MongoClient(\"\")#Replace AWS address infomation\n",
    "db = client[\"products_db\"]\n",
    "\n",
    "files_and_collections = {\n",
    "    \"categories.csv\": \"categories\",\n",
    "    \"products.csv\": \"products\"\n",
    "}\n",
    "\n",
    "for file, collection_name in files_and_collections.items():\n",
    "    df = pd.read_csv(file)\n",
    "    data = df.to_dict(orient=\"records\")\n",
    "    collection = db[collection_name]\n",
    "    collection.insert_many(data)\n",
    "    print(f\"✅ Imported {file} to '{collection_name}' collection successfully!\")\n",
    "\n",
    "client_ai = openai.OpenAI(api_key=\"\")#Replace OpenAI API key"
   ]
  },
  {
   "cell_type": "markdown",
   "id": "cd49c425-d26f-4f64-b366-598a1753abea",
   "metadata": {},
   "source": [
    "### Prmopt"
   ]
  },
  {
   "cell_type": "code",
   "execution_count": 59,
   "id": "cd06d20d-0f71-440c-93f9-b61527b5094b",
   "metadata": {},
   "outputs": [],
   "source": [
    "def generate_prompt(user_query):\n",
    "    return f\"\"\"\n",
    "You are a MongoDB assistant.\n",
    "\n",
    "You are working with a MongoDB database. The main variable is db. It has two collections:\n",
    "- products (ProductID, ProductName, Price, CategoryID, Class, ModifyDate, Resistant, IsAllergic, VitalityDays)\n",
    "- categories (CategoryID, CategoryName)\n",
    "\n",
    "Understand the user's natural language query and return a **valid MongoDB command using PyMongo** in Python.\n",
    "\n",
    "⚠️ Always do the following:\n",
    "- Assign the result to a variable named `results`, e.g., `results = db.customers.find({...})`\n",
    "- If it is an insert, assign to `result`, e.g., `result = db.countries.insert_one({...})`\n",
    "- If it is a delete, assign to `result`, e.g., `result = db.cities.delete_many({...})`\n",
    "- If it is an aggregation, assign to `results`, e.g., `results = db.customers.aggregate([...])`\n",
    "- If it is an update, assign to `result`, e.g., `result = db.customers.update_one({{...}}, {{'$set': {{...}}}})`\n",
    "    - If the update value is fetched from another collection (e.g., setting `CityID` to the ID of a city), use `find_one()` first and assign to a temp variable, then use it in `update_one`\n",
    "- If listing collection names, assign to `results`, e.g., `results = db.list_collection_names()`\n",
    "\n",
    "When using $lookup to join collections:\n",
    "- Join customers with cities using CityID\n",
    "- Join cities with countries using CountryID\n",
    "- You may use nested $lookup if needed\n",
    "- If $lookup is used, always follow with $unwind before $match.\n",
    "\n",
    "Always use $project to return only relevant fields.\n",
    "Always return a single variable named `results` or `result` depending on context.\n",
    "Return only executable Python code (no markdown, no explanation).\n",
    "\n",
    "User query: \"{user_query}\"\n",
    "\"\"\""
   ]
  },
  {
   "cell_type": "markdown",
   "id": "01c9c21c-3baa-4407-a322-1a9f70afd145",
   "metadata": {},
   "source": [
    "### User Input"
   ]
  },
  {
   "cell_type": "code",
   "execution_count": 70,
   "id": "3a2dc7cb-58bd-4f94-9e9a-c2586b375249",
   "metadata": {},
   "outputs": [],
   "source": [
    "user_query = \"calculate the average price of each category, keep only categories with average price less than 50, and sort by average price in descending order.\""
   ]
  },
  {
   "cell_type": "markdown",
   "id": "8fbb9f7a-a5bf-4743-be5c-5d14a472bb5e",
   "metadata": {},
   "source": [
    "### OpenAI Generate Query"
   ]
  },
  {
   "cell_type": "code",
   "execution_count": 73,
   "id": "c362af99-495f-48d5-906a-c869c84e0f9a",
   "metadata": {},
   "outputs": [
    {
     "name": "stdout",
     "output_type": "stream",
     "text": [
      "ChatGPT generated MongoDB query:\n",
      "\n",
      "results = db.products.aggregate([\n",
      "    {\n",
      "        \"$lookup\": {\n",
      "            \"from\": \"categories\",\n",
      "            \"localField\": \"CategoryID\",\n",
      "            \"foreignField\": \"CategoryID\",\n",
      "            \"as\": \"category_info\"\n",
      "        }\n",
      "    },\n",
      "    {\n",
      "        \"$unwind\": \"$category_info\"\n",
      "    },\n",
      "    {\n",
      "        \"$group\": {\n",
      "            \"_id\": \"$category_info.CategoryName\",\n",
      "            \"average_price\": {\"$avg\": \"$Price\"}\n",
      "        }\n",
      "    },\n",
      "    {\n",
      "        \"$match\": {\n",
      "            \"average_price\": {\"$lt\": 50}\n",
      "        }\n",
      "    },\n",
      "    {\n",
      "        \"$sort\": {\n",
      "            \"average_price\": -1\n",
      "        }\n",
      "    },\n",
      "    {\n",
      "        \"$project\": {\n",
      "            \"_id\": 0,\n",
      "            \"category\": \"$_id\",\n",
      "            \"average_price\": 1\n",
      "        }\n",
      "    }\n",
      "])\n"
     ]
    }
   ],
   "source": [
    "prompt = generate_prompt(user_query)\n",
    "\n",
    "response = client_ai.chat.completions.create(\n",
    "    model=\"gpt-4\",\n",
    "    messages=[{\"role\": \"user\", \"content\": prompt}],\n",
    "    temperature=0\n",
    ")\n",
    "\n",
    "mongo_query_str = response.choices[0].message.content\n",
    "print(\"ChatGPT generated MongoDB query:\\n\")\n",
    "print(mongo_query_str)\n"
   ]
  },
  {
   "cell_type": "markdown",
   "id": "32d701d9-90c0-480d-a1f7-b1eb5a48c4a5",
   "metadata": {},
   "source": [
    "### Final Output"
   ]
  },
  {
   "cell_type": "code",
   "execution_count": 75,
   "id": "c933cef3-e5f3-440c-9013-75fe52326a1a",
   "metadata": {},
   "outputs": [
    {
     "name": "stdout",
     "output_type": "stream",
     "text": [
      "\n",
      "📋 Query Result:\n",
      "\n",
      "📎 Cursor result：\n",
      "\n",
      "{'average_price': 49.460882978723404, 'category': 'Poultry'}\n",
      "{'average_price': 48.66665555555556, 'category': 'Seafood'}\n",
      "{'average_price': 45.396100000000004, 'category': 'Produce'}\n",
      "{'average_price': 44.27278333333334, 'category': 'Shell fish'}\n",
      "\n",
      "✅ Finished\n"
     ]
    }
   ],
   "source": [
    "import json\n",
    "\n",
    "response = client_ai.chat.completions.create(\n",
    "    model=\"gpt-4\",\n",
    "    messages=[{\"role\": \"user\", \"content\": generate_prompt(user_query)}],\n",
    "    temperature=0\n",
    ")\n",
    "\n",
    "code_str = response.choices[0].message.content.strip()\n",
    "\n",
    "if code_str.startswith(\"```python\"):\n",
    "    code_str = code_str[len(\"```python\"):].strip()\n",
    "if code_str.endswith(\"```\"):\n",
    "    code_str = code_str[:-3].strip()\n",
    "\n",
    "try:\n",
    "    exec_locals = {\"db\": db}\n",
    "    exec(code_str, {}, exec_locals)\n",
    "\n",
    "    # ✅ Query result only when 'results' is actually defined\n",
    "    if \"results\" in exec_locals:\n",
    "        print(\"\\n📋 Query Result:\\n\")\n",
    "        results = exec_locals[\"results\"]\n",
    "\n",
    "        if isinstance(results, list):\n",
    "            for doc in results:\n",
    "                print(doc)\n",
    "        elif isinstance(results, dict):\n",
    "            print(results)\n",
    "        elif hasattr(results, \"__iter__\") and not isinstance(results, str):\n",
    "            print(\"📎 Cursor result：\\n\")\n",
    "            for doc in list(results):\n",
    "                print(doc)\n",
    "        else:\n",
    "            print(results)\n",
    "\n",
    "    # Insert\n",
    "    if \"insert_one\" in code_str or \"insert_many\" in code_str:\n",
    "        print(\"✅ Insert Successfully:\", exec_locals.get(\"result\", \"OK\"))\n",
    "\n",
    "    # Delete\n",
    "    if \"delete_one\" in code_str or \"delete_many\" in code_str:\n",
    "        print(\"🗑 Delete Successfully，Number:\", exec_locals[\"result\"].deleted_count)\n",
    "\n",
    "    # Update\n",
    "    if \"update_one\" in code_str or \"update_many\" in code_str:\n",
    "        print(\"🔧 Update Successfully，Match:\", exec_locals[\"result\"].matched_count)\n",
    "        print(\"📝 Change:\", exec_locals[\"result\"].modified_count)\n",
    "\n",
    "    print(\"\\n✅ Finished\")\n",
    "\n",
    "except Exception as e:\n",
    "    print(\"❌ Error:\", e)"
   ]
  },
  {
   "cell_type": "markdown",
   "id": "c1f06758-0da4-454f-8872-0b860367a09d",
   "metadata": {},
   "source": [
    "## DataBase#3: Orders"
   ]
  },
  {
   "cell_type": "markdown",
   "id": "45e787ae-419e-458c-87bd-dc0cf43b4597",
   "metadata": {},
   "source": [
    "### Prepare Work"
   ]
  },
  {
   "cell_type": "code",
   "execution_count": 520,
   "id": "93e4f292-cf4e-4c6f-910b-02074410fc74",
   "metadata": {},
   "outputs": [
    {
     "name": "stdout",
     "output_type": "stream",
     "text": [
      "✅ Imported orders.csv into 'orders' collection successfully!\n",
      "✅ Imported order_customers.csv into 'order_customers' collection successfully!\n"
     ]
    }
   ],
   "source": [
    "from pymongo import MongoClient\n",
    "import pandas as pd\n",
    "import openai\n",
    "\n",
    "client = MongoClient(\"\")#Replace AWS address infomation\n",
    "db = client[\"order_db\"]\n",
    "\n",
    "files_and_collections = {\n",
    "    \"orders.csv\": \"orders\",\n",
    "    \"order_customers.csv\": \"order_customers\"\n",
    "}\n",
    "\n",
    "for file, collection_name in files_and_collections.items():\n",
    "    df = pd.read_csv(file)\n",
    "\n",
    "    data = df.to_dict(orient=\"records\")\n",
    "    collection = db[collection_name]\n",
    "    collection.insert_many(data)\n",
    "    print(f\"✅ Imported {file} into '{collection_name}' collection successfully!\")\n",
    "\n",
    "client_ai = openai.OpenAI(api_key=\"\")#Replace OpenAI API key"
   ]
  },
  {
   "cell_type": "markdown",
   "id": "698f8523-d3a9-4ba2-bd90-59b34bb463e9",
   "metadata": {
    "jp-MarkdownHeadingCollapsed": true
   },
   "source": [
    "### Prmopt"
   ]
  },
  {
   "cell_type": "code",
   "execution_count": 522,
   "id": "40594d87-d2d5-4a5b-8905-ad398fe3e02a",
   "metadata": {},
   "outputs": [],
   "source": [
    "def generate_prompt(user_query):\n",
    "    return f\"\"\"\n",
    "You are a MongoDB assistant.\n",
    "\n",
    "You are working with a MongoDB database. The main variable is db. It has two collections:\n",
    "- orders (order_id, order_date, customer_id, total_price)\n",
    "- order_customers (customer_id, first_name, last_name, address, email, phone_number)\n",
    "\n",
    "Understand the user's natural language query and return a **valid MongoDB command using PyMongo** in Python.\n",
    "\n",
    "⚠️ Always do the following:\n",
    "- Assign the result to a variable named `results`, e.g., `results = db.customers.find({...})`\n",
    "- If it is an insert, assign to `result`, e.g., `result = db.countries.insert_one({...})`\n",
    "- If it is a delete, assign to `result`, e.g., `result = db.cities.delete_many({...})`\n",
    "- If it is an aggregation, assign to `results`, e.g., `results = db.customers.aggregate([...])`\n",
    "- If it is an update, assign to `result`, e.g., `result = db.customers.update_one({{...}}, {{'$set': {{...}}}})`\n",
    "    - If the update value is fetched from another collection (e.g., setting `CityID` to the ID of a city), use `find_one()` first and assign to a temp variable, then use it in `update_one`\n",
    "- If listing collection names, assign to `results`, e.g., `results = db.list_collection_names()`\n",
    "\n",
    "When using $lookup to join collections:\n",
    "- Join customers with cities using CityID\n",
    "- Join cities with countries using CountryID\n",
    "- You may use nested $lookup if needed\n",
    "- If $lookup is used, always follow with $unwind before $match.\n",
    "\n",
    "Always use $project to return only relevant fields.\n",
    "Always return a single variable named `results` or `result` depending on context.\n",
    "Return only executable Python code (no markdown, no explanation).\n",
    "\n",
    "Note: for any query including date, just use formate like \"2001-01-01\" as a string to query, no need to convert anything\n",
    "\n",
    "User query: \"{user_query}\"\n",
    "only generate mongodb query without any other words\n",
    "\"\"\""
   ]
  },
  {
   "cell_type": "markdown",
   "id": "5a15f4fc-7933-482b-9c8c-e31c603ef719",
   "metadata": {
    "jp-MarkdownHeadingCollapsed": true
   },
   "source": [
    "### User Input"
   ]
  },
  {
   "cell_type": "code",
   "execution_count": 526,
   "id": "4b749cc7-0d71-4eee-b432-837e6c70b387",
   "metadata": {},
   "outputs": [],
   "source": [
    "user_query = \"\""
   ]
  },
  {
   "cell_type": "markdown",
   "id": "41c48f6f-852e-497f-b15e-4a53e523e6cb",
   "metadata": {
    "jp-MarkdownHeadingCollapsed": true
   },
   "source": [
    "### OpenAI Query"
   ]
  },
  {
   "cell_type": "code",
   "execution_count": 529,
   "id": "b2e40ce5-e4a0-4ea3-b2df-45f679acfa9f",
   "metadata": {},
   "outputs": [
    {
     "name": "stdout",
     "output_type": "stream",
     "text": [
      "ChatGPT generated MongoDB query:\n",
      "\n",
      "results = db.orders.aggregate([\n",
      "    {\n",
      "        '$lookup': {\n",
      "            'from': 'order_customers',\n",
      "            'localField': 'customer_id',\n",
      "            'foreignField': 'customer_id',\n",
      "            'as': 'customer_info'\n",
      "        }\n",
      "    },\n",
      "    {\n",
      "        '$unwind': '$customer_info'\n",
      "    },\n",
      "    {\n",
      "        '$match': {\n",
      "            'total_price': {'$gt': 900},\n",
      "            'customer_info.address': '123 Main St, Springfield, IL'\n",
      "        }\n",
      "    },\n",
      "    {\n",
      "        '$project': {\n",
      "            '_id': 0,\n",
      "            'full_name': {'$concat': ['$customer_info.first_name', ' ', '$customer_info.last_name']},\n",
      "            'price_of_purchase': '$total_price'\n",
      "        }\n",
      "    },\n",
      "    {\n",
      "        '$sort': {'price_of_purchase': -1}\n",
      "    },\n",
      "    {\n",
      "        '$skip': 2\n",
      "    },\n",
      "    {\n",
      "        '$limit': 5\n",
      "    }\n",
      "])\n"
     ]
    }
   ],
   "source": [
    "prompt = generate_prompt(user_query)\n",
    "\n",
    "response = client_ai.chat.completions.create(\n",
    "    model=\"gpt-4\",\n",
    "    messages=[{\"role\": \"user\", \"content\": prompt}],\n",
    "    temperature=0\n",
    ")\n",
    "\n",
    "mongo_query_str = response.choices[0].message.content\n",
    "\n",
    "if mongo_query_str.startswith(\"```python\"):\n",
    "    mongo_query_str = mongo_query_str[len(\"```python\"):].strip()\n",
    "if mongo_query_str.endswith(\"```\"):\n",
    "    mongo_query_str = mongo_query_str[:-3].strip()\n",
    "\n",
    "print(\"ChatGPT generated MongoDB query:\\n\")\n",
    "print(mongo_query_str)\n"
   ]
  },
  {
   "cell_type": "markdown",
   "id": "4f9e2388-4740-433a-aed7-356607e7768f",
   "metadata": {
    "jp-MarkdownHeadingCollapsed": true
   },
   "source": [
    "### Final Output"
   ]
  },
  {
   "cell_type": "code",
   "execution_count": 532,
   "id": "41486821-ea78-4e31-9430-2db3119856cb",
   "metadata": {
    "scrolled": true
   },
   "outputs": [
    {
     "ename": "KeyboardInterrupt",
     "evalue": "",
     "output_type": "error",
     "traceback": [
      "\u001b[0;31m---------------------------------------------------------------------------\u001b[0m",
      "\u001b[0;31mKeyboardInterrupt\u001b[0m                         Traceback (most recent call last)",
      "Cell \u001b[0;32mIn[532], line 18\u001b[0m\n\u001b[1;32m     16\u001b[0m \u001b[38;5;28;01mtry\u001b[39;00m:\n\u001b[1;32m     17\u001b[0m     exec_locals \u001b[38;5;241m=\u001b[39m {\u001b[38;5;124m\"\u001b[39m\u001b[38;5;124mdb\u001b[39m\u001b[38;5;124m\"\u001b[39m: db}\n\u001b[0;32m---> 18\u001b[0m     exec(code_str, {}, exec_locals)\n\u001b[1;32m     20\u001b[0m     \u001b[38;5;66;03m# ✅ Query result only when 'results' is actually defined\u001b[39;00m\n\u001b[1;32m     21\u001b[0m     \u001b[38;5;28;01mif\u001b[39;00m \u001b[38;5;124m\"\u001b[39m\u001b[38;5;124mresults\u001b[39m\u001b[38;5;124m\"\u001b[39m \u001b[38;5;129;01min\u001b[39;00m exec_locals:\n",
      "File \u001b[0;32m<string>:1\u001b[0m\n",
      "File \u001b[0;32m/opt/anaconda3/lib/python3.12/site-packages/pymongo/synchronous/collection.py:2979\u001b[0m, in \u001b[0;36mCollection.aggregate\u001b[0;34m(self, pipeline, session, let, comment, **kwargs)\u001b[0m\n\u001b[1;32m   2902\u001b[0m \u001b[38;5;250m\u001b[39m\u001b[38;5;124;03m\"\"\"Perform an aggregation using the aggregation framework on this\u001b[39;00m\n\u001b[1;32m   2903\u001b[0m \u001b[38;5;124;03mcollection.\u001b[39;00m\n\u001b[1;32m   2904\u001b[0m \n\u001b[0;32m   (...)\u001b[0m\n\u001b[1;32m   2976\u001b[0m \u001b[38;5;124;03m    https://mongodb.com/docs/manual/reference/command/aggregate\u001b[39;00m\n\u001b[1;32m   2977\u001b[0m \u001b[38;5;124;03m\"\"\"\u001b[39;00m\n\u001b[1;32m   2978\u001b[0m \u001b[38;5;28;01mwith\u001b[39;00m \u001b[38;5;28mself\u001b[39m\u001b[38;5;241m.\u001b[39m_database\u001b[38;5;241m.\u001b[39mclient\u001b[38;5;241m.\u001b[39m_tmp_session(session, close\u001b[38;5;241m=\u001b[39m\u001b[38;5;28;01mFalse\u001b[39;00m) \u001b[38;5;28;01mas\u001b[39;00m s:\n\u001b[0;32m-> 2979\u001b[0m     \u001b[38;5;28;01mreturn\u001b[39;00m \u001b[38;5;28mself\u001b[39m\u001b[38;5;241m.\u001b[39m_aggregate(\n\u001b[1;32m   2980\u001b[0m         _CollectionAggregationCommand,\n\u001b[1;32m   2981\u001b[0m         pipeline,\n\u001b[1;32m   2982\u001b[0m         CommandCursor,\n\u001b[1;32m   2983\u001b[0m         session\u001b[38;5;241m=\u001b[39ms,\n\u001b[1;32m   2984\u001b[0m         explicit_session\u001b[38;5;241m=\u001b[39msession \u001b[38;5;129;01mis\u001b[39;00m \u001b[38;5;129;01mnot\u001b[39;00m \u001b[38;5;28;01mNone\u001b[39;00m,\n\u001b[1;32m   2985\u001b[0m         let\u001b[38;5;241m=\u001b[39mlet,\n\u001b[1;32m   2986\u001b[0m         comment\u001b[38;5;241m=\u001b[39mcomment,\n\u001b[1;32m   2987\u001b[0m         \u001b[38;5;241m*\u001b[39m\u001b[38;5;241m*\u001b[39mkwargs,\n\u001b[1;32m   2988\u001b[0m     )\n",
      "File \u001b[0;32m/opt/anaconda3/lib/python3.12/site-packages/pymongo/_csot.py:119\u001b[0m, in \u001b[0;36mapply.<locals>.csot_wrapper\u001b[0;34m(self, *args, **kwargs)\u001b[0m\n\u001b[1;32m    117\u001b[0m         \u001b[38;5;28;01mwith\u001b[39;00m _TimeoutContext(timeout):\n\u001b[1;32m    118\u001b[0m             \u001b[38;5;28;01mreturn\u001b[39;00m func(\u001b[38;5;28mself\u001b[39m, \u001b[38;5;241m*\u001b[39margs, \u001b[38;5;241m*\u001b[39m\u001b[38;5;241m*\u001b[39mkwargs)\n\u001b[0;32m--> 119\u001b[0m \u001b[38;5;28;01mreturn\u001b[39;00m func(\u001b[38;5;28mself\u001b[39m, \u001b[38;5;241m*\u001b[39margs, \u001b[38;5;241m*\u001b[39m\u001b[38;5;241m*\u001b[39mkwargs)\n",
      "File \u001b[0;32m/opt/anaconda3/lib/python3.12/site-packages/pymongo/synchronous/collection.py:2886\u001b[0m, in \u001b[0;36mCollection._aggregate\u001b[0;34m(self, aggregation_command, pipeline, cursor_class, session, explicit_session, let, comment, **kwargs)\u001b[0m\n\u001b[1;32m   2875\u001b[0m     kwargs[\u001b[38;5;124m\"\u001b[39m\u001b[38;5;124mcomment\u001b[39m\u001b[38;5;124m\"\u001b[39m] \u001b[38;5;241m=\u001b[39m comment\n\u001b[1;32m   2876\u001b[0m cmd \u001b[38;5;241m=\u001b[39m aggregation_command(\n\u001b[1;32m   2877\u001b[0m     \u001b[38;5;28mself\u001b[39m,\n\u001b[1;32m   2878\u001b[0m     cursor_class,\n\u001b[0;32m   (...)\u001b[0m\n\u001b[1;32m   2883\u001b[0m     user_fields\u001b[38;5;241m=\u001b[39m{\u001b[38;5;124m\"\u001b[39m\u001b[38;5;124mcursor\u001b[39m\u001b[38;5;124m\"\u001b[39m: {\u001b[38;5;124m\"\u001b[39m\u001b[38;5;124mfirstBatch\u001b[39m\u001b[38;5;124m\"\u001b[39m: \u001b[38;5;241m1\u001b[39m}},\n\u001b[1;32m   2884\u001b[0m )\n\u001b[0;32m-> 2886\u001b[0m \u001b[38;5;28;01mreturn\u001b[39;00m \u001b[38;5;28mself\u001b[39m\u001b[38;5;241m.\u001b[39m_database\u001b[38;5;241m.\u001b[39mclient\u001b[38;5;241m.\u001b[39m_retryable_read(\n\u001b[1;32m   2887\u001b[0m     cmd\u001b[38;5;241m.\u001b[39mget_cursor,\n\u001b[1;32m   2888\u001b[0m     cmd\u001b[38;5;241m.\u001b[39mget_read_preference(session),  \u001b[38;5;66;03m# type: ignore[arg-type]\u001b[39;00m\n\u001b[1;32m   2889\u001b[0m     session,\n\u001b[1;32m   2890\u001b[0m     retryable\u001b[38;5;241m=\u001b[39m\u001b[38;5;129;01mnot\u001b[39;00m cmd\u001b[38;5;241m.\u001b[39m_performs_write,\n\u001b[1;32m   2891\u001b[0m     operation\u001b[38;5;241m=\u001b[39m_Op\u001b[38;5;241m.\u001b[39mAGGREGATE,\n\u001b[1;32m   2892\u001b[0m )\n",
      "File \u001b[0;32m/opt/anaconda3/lib/python3.12/site-packages/pymongo/synchronous/mongo_client.py:2005\u001b[0m, in \u001b[0;36mMongoClient._retryable_read\u001b[0;34m(self, func, read_pref, session, operation, address, retryable, operation_id)\u001b[0m\n\u001b[1;32m   2000\u001b[0m \u001b[38;5;66;03m# Ensure that the client supports retrying on reads and there is no session in\u001b[39;00m\n\u001b[1;32m   2001\u001b[0m \u001b[38;5;66;03m# transaction, otherwise, we will not support retry behavior for this call.\u001b[39;00m\n\u001b[1;32m   2002\u001b[0m retryable \u001b[38;5;241m=\u001b[39m \u001b[38;5;28mbool\u001b[39m(\n\u001b[1;32m   2003\u001b[0m     retryable \u001b[38;5;129;01mand\u001b[39;00m \u001b[38;5;28mself\u001b[39m\u001b[38;5;241m.\u001b[39moptions\u001b[38;5;241m.\u001b[39mretry_reads \u001b[38;5;129;01mand\u001b[39;00m \u001b[38;5;129;01mnot\u001b[39;00m (session \u001b[38;5;129;01mand\u001b[39;00m session\u001b[38;5;241m.\u001b[39min_transaction)\n\u001b[1;32m   2004\u001b[0m )\n\u001b[0;32m-> 2005\u001b[0m \u001b[38;5;28;01mreturn\u001b[39;00m \u001b[38;5;28mself\u001b[39m\u001b[38;5;241m.\u001b[39m_retry_internal(\n\u001b[1;32m   2006\u001b[0m     func,\n\u001b[1;32m   2007\u001b[0m     session,\n\u001b[1;32m   2008\u001b[0m     \u001b[38;5;28;01mNone\u001b[39;00m,\n\u001b[1;32m   2009\u001b[0m     operation,\n\u001b[1;32m   2010\u001b[0m     is_read\u001b[38;5;241m=\u001b[39m\u001b[38;5;28;01mTrue\u001b[39;00m,\n\u001b[1;32m   2011\u001b[0m     address\u001b[38;5;241m=\u001b[39maddress,\n\u001b[1;32m   2012\u001b[0m     read_pref\u001b[38;5;241m=\u001b[39mread_pref,\n\u001b[1;32m   2013\u001b[0m     retryable\u001b[38;5;241m=\u001b[39mretryable,\n\u001b[1;32m   2014\u001b[0m     operation_id\u001b[38;5;241m=\u001b[39moperation_id,\n\u001b[1;32m   2015\u001b[0m )\n",
      "File \u001b[0;32m/opt/anaconda3/lib/python3.12/site-packages/pymongo/_csot.py:119\u001b[0m, in \u001b[0;36mapply.<locals>.csot_wrapper\u001b[0;34m(self, *args, **kwargs)\u001b[0m\n\u001b[1;32m    117\u001b[0m         \u001b[38;5;28;01mwith\u001b[39;00m _TimeoutContext(timeout):\n\u001b[1;32m    118\u001b[0m             \u001b[38;5;28;01mreturn\u001b[39;00m func(\u001b[38;5;28mself\u001b[39m, \u001b[38;5;241m*\u001b[39margs, \u001b[38;5;241m*\u001b[39m\u001b[38;5;241m*\u001b[39mkwargs)\n\u001b[0;32m--> 119\u001b[0m \u001b[38;5;28;01mreturn\u001b[39;00m func(\u001b[38;5;28mself\u001b[39m, \u001b[38;5;241m*\u001b[39margs, \u001b[38;5;241m*\u001b[39m\u001b[38;5;241m*\u001b[39mkwargs)\n",
      "File \u001b[0;32m/opt/anaconda3/lib/python3.12/site-packages/pymongo/synchronous/mongo_client.py:1972\u001b[0m, in \u001b[0;36mMongoClient._retry_internal\u001b[0;34m(self, func, session, bulk, operation, is_read, address, read_pref, retryable, operation_id)\u001b[0m\n\u001b[1;32m   1935\u001b[0m \u001b[38;5;129m@_csot\u001b[39m\u001b[38;5;241m.\u001b[39mapply\n\u001b[1;32m   1936\u001b[0m \u001b[38;5;28;01mdef\u001b[39;00m \u001b[38;5;21m_retry_internal\u001b[39m(\n\u001b[1;32m   1937\u001b[0m     \u001b[38;5;28mself\u001b[39m,\n\u001b[0;32m   (...)\u001b[0m\n\u001b[1;32m   1946\u001b[0m     operation_id: Optional[\u001b[38;5;28mint\u001b[39m] \u001b[38;5;241m=\u001b[39m \u001b[38;5;28;01mNone\u001b[39;00m,\n\u001b[1;32m   1947\u001b[0m ) \u001b[38;5;241m-\u001b[39m\u001b[38;5;241m>\u001b[39m T:\n\u001b[1;32m   1948\u001b[0m \u001b[38;5;250m    \u001b[39m\u001b[38;5;124;03m\"\"\"Internal retryable helper for all client transactions.\u001b[39;00m\n\u001b[1;32m   1949\u001b[0m \n\u001b[1;32m   1950\u001b[0m \u001b[38;5;124;03m    :param func: Callback function we want to retry\u001b[39;00m\n\u001b[0;32m   (...)\u001b[0m\n\u001b[1;32m   1959\u001b[0m \u001b[38;5;124;03m    :return: Output of the calling func()\u001b[39;00m\n\u001b[1;32m   1960\u001b[0m \u001b[38;5;124;03m    \"\"\"\u001b[39;00m\n\u001b[1;32m   1961\u001b[0m     \u001b[38;5;28;01mreturn\u001b[39;00m _ClientConnectionRetryable(\n\u001b[1;32m   1962\u001b[0m         mongo_client\u001b[38;5;241m=\u001b[39m\u001b[38;5;28mself\u001b[39m,\n\u001b[1;32m   1963\u001b[0m         func\u001b[38;5;241m=\u001b[39mfunc,\n\u001b[1;32m   1964\u001b[0m         bulk\u001b[38;5;241m=\u001b[39mbulk,\n\u001b[1;32m   1965\u001b[0m         operation\u001b[38;5;241m=\u001b[39moperation,\n\u001b[1;32m   1966\u001b[0m         is_read\u001b[38;5;241m=\u001b[39mis_read,\n\u001b[1;32m   1967\u001b[0m         session\u001b[38;5;241m=\u001b[39msession,\n\u001b[1;32m   1968\u001b[0m         read_pref\u001b[38;5;241m=\u001b[39mread_pref,\n\u001b[1;32m   1969\u001b[0m         address\u001b[38;5;241m=\u001b[39maddress,\n\u001b[1;32m   1970\u001b[0m         retryable\u001b[38;5;241m=\u001b[39mretryable,\n\u001b[1;32m   1971\u001b[0m         operation_id\u001b[38;5;241m=\u001b[39moperation_id,\n\u001b[0;32m-> 1972\u001b[0m     )\u001b[38;5;241m.\u001b[39mrun()\n",
      "File \u001b[0;32m/opt/anaconda3/lib/python3.12/site-packages/pymongo/synchronous/mongo_client.py:2709\u001b[0m, in \u001b[0;36m_ClientConnectionRetryable.run\u001b[0;34m(self)\u001b[0m\n\u001b[1;32m   2707\u001b[0m \u001b[38;5;28mself\u001b[39m\u001b[38;5;241m.\u001b[39m_check_last_error(check_csot\u001b[38;5;241m=\u001b[39m\u001b[38;5;28;01mTrue\u001b[39;00m)\n\u001b[1;32m   2708\u001b[0m \u001b[38;5;28;01mtry\u001b[39;00m:\n\u001b[0;32m-> 2709\u001b[0m     \u001b[38;5;28;01mreturn\u001b[39;00m \u001b[38;5;28mself\u001b[39m\u001b[38;5;241m.\u001b[39m_read() \u001b[38;5;28;01mif\u001b[39;00m \u001b[38;5;28mself\u001b[39m\u001b[38;5;241m.\u001b[39m_is_read \u001b[38;5;28;01melse\u001b[39;00m \u001b[38;5;28mself\u001b[39m\u001b[38;5;241m.\u001b[39m_write()\n\u001b[1;32m   2710\u001b[0m \u001b[38;5;28;01mexcept\u001b[39;00m ServerSelectionTimeoutError:\n\u001b[1;32m   2711\u001b[0m     \u001b[38;5;66;03m# The application may think the write was never attempted\u001b[39;00m\n\u001b[1;32m   2712\u001b[0m     \u001b[38;5;66;03m# if we raise ServerSelectionTimeoutError on the retry\u001b[39;00m\n\u001b[1;32m   2713\u001b[0m     \u001b[38;5;66;03m# attempt. Raise the original exception instead.\u001b[39;00m\n\u001b[1;32m   2714\u001b[0m     \u001b[38;5;28mself\u001b[39m\u001b[38;5;241m.\u001b[39m_check_last_error()\n",
      "File \u001b[0;32m/opt/anaconda3/lib/python3.12/site-packages/pymongo/synchronous/mongo_client.py:2870\u001b[0m, in \u001b[0;36m_ClientConnectionRetryable._read\u001b[0;34m(self)\u001b[0m\n\u001b[1;32m   2862\u001b[0m \u001b[38;5;28;01mif\u001b[39;00m \u001b[38;5;28mself\u001b[39m\u001b[38;5;241m.\u001b[39m_retrying:\n\u001b[1;32m   2863\u001b[0m     _debug_log(\n\u001b[1;32m   2864\u001b[0m         _COMMAND_LOGGER,\n\u001b[1;32m   2865\u001b[0m         message\u001b[38;5;241m=\u001b[39m\u001b[38;5;124mf\u001b[39m\u001b[38;5;124m\"\u001b[39m\u001b[38;5;124mRetrying read attempt number \u001b[39m\u001b[38;5;132;01m{\u001b[39;00m\u001b[38;5;28mself\u001b[39m\u001b[38;5;241m.\u001b[39m_attempt_number\u001b[38;5;132;01m}\u001b[39;00m\u001b[38;5;124m\"\u001b[39m,\n\u001b[0;32m   (...)\u001b[0m\n\u001b[1;32m   2868\u001b[0m         operationId\u001b[38;5;241m=\u001b[39m\u001b[38;5;28mself\u001b[39m\u001b[38;5;241m.\u001b[39m_operation_id,\n\u001b[1;32m   2869\u001b[0m     )\n\u001b[0;32m-> 2870\u001b[0m \u001b[38;5;28;01mreturn\u001b[39;00m \u001b[38;5;28mself\u001b[39m\u001b[38;5;241m.\u001b[39m_func(\u001b[38;5;28mself\u001b[39m\u001b[38;5;241m.\u001b[39m_session, \u001b[38;5;28mself\u001b[39m\u001b[38;5;241m.\u001b[39m_server, conn, read_pref)\n",
      "File \u001b[0;32m/opt/anaconda3/lib/python3.12/site-packages/pymongo/synchronous/aggregation.py:164\u001b[0m, in \u001b[0;36m_AggregationCommand.get_cursor\u001b[0;34m(self, session, server, conn, read_preference)\u001b[0m\n\u001b[1;32m    161\u001b[0m     write_concern \u001b[38;5;241m=\u001b[39m \u001b[38;5;28;01mNone\u001b[39;00m\n\u001b[1;32m    163\u001b[0m \u001b[38;5;66;03m# Run command.\u001b[39;00m\n\u001b[0;32m--> 164\u001b[0m result \u001b[38;5;241m=\u001b[39m conn\u001b[38;5;241m.\u001b[39mcommand(\n\u001b[1;32m    165\u001b[0m     \u001b[38;5;28mself\u001b[39m\u001b[38;5;241m.\u001b[39m_database\u001b[38;5;241m.\u001b[39mname,\n\u001b[1;32m    166\u001b[0m     cmd,\n\u001b[1;32m    167\u001b[0m     read_preference,\n\u001b[1;32m    168\u001b[0m     \u001b[38;5;28mself\u001b[39m\u001b[38;5;241m.\u001b[39m_target\u001b[38;5;241m.\u001b[39mcodec_options,\n\u001b[1;32m    169\u001b[0m     parse_write_concern_error\u001b[38;5;241m=\u001b[39m\u001b[38;5;28;01mTrue\u001b[39;00m,\n\u001b[1;32m    170\u001b[0m     read_concern\u001b[38;5;241m=\u001b[39mread_concern,\n\u001b[1;32m    171\u001b[0m     write_concern\u001b[38;5;241m=\u001b[39mwrite_concern,\n\u001b[1;32m    172\u001b[0m     collation\u001b[38;5;241m=\u001b[39m\u001b[38;5;28mself\u001b[39m\u001b[38;5;241m.\u001b[39m_collation,\n\u001b[1;32m    173\u001b[0m     session\u001b[38;5;241m=\u001b[39msession,\n\u001b[1;32m    174\u001b[0m     client\u001b[38;5;241m=\u001b[39m\u001b[38;5;28mself\u001b[39m\u001b[38;5;241m.\u001b[39m_database\u001b[38;5;241m.\u001b[39mclient,\n\u001b[1;32m    175\u001b[0m     user_fields\u001b[38;5;241m=\u001b[39m\u001b[38;5;28mself\u001b[39m\u001b[38;5;241m.\u001b[39m_user_fields,\n\u001b[1;32m    176\u001b[0m )\n\u001b[1;32m    178\u001b[0m \u001b[38;5;28;01mif\u001b[39;00m \u001b[38;5;28mself\u001b[39m\u001b[38;5;241m.\u001b[39m_result_processor:\n\u001b[1;32m    179\u001b[0m     \u001b[38;5;28mself\u001b[39m\u001b[38;5;241m.\u001b[39m_result_processor(result, conn)\n",
      "File \u001b[0;32m/opt/anaconda3/lib/python3.12/site-packages/pymongo/synchronous/helpers.py:47\u001b[0m, in \u001b[0;36m_handle_reauth.<locals>.inner\u001b[0;34m(*args, **kwargs)\u001b[0m\n\u001b[1;32m     44\u001b[0m \u001b[38;5;28;01mfrom\u001b[39;00m \u001b[38;5;21;01mpymongo\u001b[39;00m\u001b[38;5;21;01m.\u001b[39;00m\u001b[38;5;21;01msynchronous\u001b[39;00m\u001b[38;5;21;01m.\u001b[39;00m\u001b[38;5;21;01mpool\u001b[39;00m \u001b[38;5;28;01mimport\u001b[39;00m Connection\n\u001b[1;32m     46\u001b[0m \u001b[38;5;28;01mtry\u001b[39;00m:\n\u001b[0;32m---> 47\u001b[0m     \u001b[38;5;28;01mreturn\u001b[39;00m func(\u001b[38;5;241m*\u001b[39margs, \u001b[38;5;241m*\u001b[39m\u001b[38;5;241m*\u001b[39mkwargs)\n\u001b[1;32m     48\u001b[0m \u001b[38;5;28;01mexcept\u001b[39;00m OperationFailure \u001b[38;5;28;01mas\u001b[39;00m exc:\n\u001b[1;32m     49\u001b[0m     \u001b[38;5;28;01mif\u001b[39;00m no_reauth:\n",
      "File \u001b[0;32m/opt/anaconda3/lib/python3.12/site-packages/pymongo/synchronous/pool.py:438\u001b[0m, in \u001b[0;36mConnection.command\u001b[0;34m(self, dbname, spec, read_preference, codec_options, check, allowable_errors, read_concern, write_concern, parse_write_concern_error, collation, session, client, retryable_write, publish_events, user_fields, exhaust_allowed)\u001b[0m\n\u001b[1;32m    436\u001b[0m \u001b[38;5;66;03m# Catch socket.error, KeyboardInterrupt, CancelledError, etc. and close ourselves.\u001b[39;00m\n\u001b[1;32m    437\u001b[0m \u001b[38;5;28;01mexcept\u001b[39;00m \u001b[38;5;167;01mBaseException\u001b[39;00m \u001b[38;5;28;01mas\u001b[39;00m error:\n\u001b[0;32m--> 438\u001b[0m     \u001b[38;5;28mself\u001b[39m\u001b[38;5;241m.\u001b[39m_raise_connection_failure(error)\n",
      "File \u001b[0;32m/opt/anaconda3/lib/python3.12/site-packages/pymongo/synchronous/pool.py:410\u001b[0m, in \u001b[0;36mConnection.command\u001b[0;34m(self, dbname, spec, read_preference, codec_options, check, allowable_errors, read_concern, write_concern, parse_write_concern_error, collation, session, client, retryable_write, publish_events, user_fields, exhaust_allowed)\u001b[0m\n\u001b[1;32m    408\u001b[0m     \u001b[38;5;28mself\u001b[39m\u001b[38;5;241m.\u001b[39m_raise_if_not_writable(unacknowledged)\n\u001b[1;32m    409\u001b[0m \u001b[38;5;28;01mtry\u001b[39;00m:\n\u001b[0;32m--> 410\u001b[0m     \u001b[38;5;28;01mreturn\u001b[39;00m command(\n\u001b[1;32m    411\u001b[0m         \u001b[38;5;28mself\u001b[39m,\n\u001b[1;32m    412\u001b[0m         dbname,\n\u001b[1;32m    413\u001b[0m         spec,\n\u001b[1;32m    414\u001b[0m         \u001b[38;5;28mself\u001b[39m\u001b[38;5;241m.\u001b[39mis_mongos,\n\u001b[1;32m    415\u001b[0m         read_preference,\n\u001b[1;32m    416\u001b[0m         codec_options,\n\u001b[1;32m    417\u001b[0m         session,\n\u001b[1;32m    418\u001b[0m         client,\n\u001b[1;32m    419\u001b[0m         check,\n\u001b[1;32m    420\u001b[0m         allowable_errors,\n\u001b[1;32m    421\u001b[0m         \u001b[38;5;28mself\u001b[39m\u001b[38;5;241m.\u001b[39maddress,\n\u001b[1;32m    422\u001b[0m         listeners,\n\u001b[1;32m    423\u001b[0m         \u001b[38;5;28mself\u001b[39m\u001b[38;5;241m.\u001b[39mmax_bson_size,\n\u001b[1;32m    424\u001b[0m         read_concern,\n\u001b[1;32m    425\u001b[0m         parse_write_concern_error\u001b[38;5;241m=\u001b[39mparse_write_concern_error,\n\u001b[1;32m    426\u001b[0m         collation\u001b[38;5;241m=\u001b[39mcollation,\n\u001b[1;32m    427\u001b[0m         compression_ctx\u001b[38;5;241m=\u001b[39m\u001b[38;5;28mself\u001b[39m\u001b[38;5;241m.\u001b[39mcompression_context,\n\u001b[1;32m    428\u001b[0m         use_op_msg\u001b[38;5;241m=\u001b[39m\u001b[38;5;28mself\u001b[39m\u001b[38;5;241m.\u001b[39mop_msg_enabled,\n\u001b[1;32m    429\u001b[0m         unacknowledged\u001b[38;5;241m=\u001b[39munacknowledged,\n\u001b[1;32m    430\u001b[0m         user_fields\u001b[38;5;241m=\u001b[39muser_fields,\n\u001b[1;32m    431\u001b[0m         exhaust_allowed\u001b[38;5;241m=\u001b[39mexhaust_allowed,\n\u001b[1;32m    432\u001b[0m         write_concern\u001b[38;5;241m=\u001b[39mwrite_concern,\n\u001b[1;32m    433\u001b[0m     )\n\u001b[1;32m    434\u001b[0m \u001b[38;5;28;01mexcept\u001b[39;00m (OperationFailure, NotPrimaryError):\n\u001b[1;32m    435\u001b[0m     \u001b[38;5;28;01mraise\u001b[39;00m\n",
      "File \u001b[0;32m/opt/anaconda3/lib/python3.12/site-packages/pymongo/synchronous/network.py:198\u001b[0m, in \u001b[0;36mcommand\u001b[0;34m(conn, dbname, spec, is_mongos, read_preference, codec_options, session, client, check, allowable_errors, address, listeners, max_bson_size, read_concern, parse_write_concern_error, collation, compression_ctx, use_op_msg, unacknowledged, user_fields, exhaust_allowed, write_concern)\u001b[0m\n\u001b[1;32m    196\u001b[0m     response_doc: _DocumentOut \u001b[38;5;241m=\u001b[39m {\u001b[38;5;124m\"\u001b[39m\u001b[38;5;124mok\u001b[39m\u001b[38;5;124m\"\u001b[39m: \u001b[38;5;241m1\u001b[39m}\n\u001b[1;32m    197\u001b[0m \u001b[38;5;28;01melse\u001b[39;00m:\n\u001b[0;32m--> 198\u001b[0m     reply \u001b[38;5;241m=\u001b[39m receive_message(conn, request_id)\n\u001b[1;32m    199\u001b[0m     conn\u001b[38;5;241m.\u001b[39mmore_to_come \u001b[38;5;241m=\u001b[39m reply\u001b[38;5;241m.\u001b[39mmore_to_come\n\u001b[1;32m    200\u001b[0m     unpacked_docs \u001b[38;5;241m=\u001b[39m reply\u001b[38;5;241m.\u001b[39munpack_response(\n\u001b[1;32m    201\u001b[0m         codec_options\u001b[38;5;241m=\u001b[39mcodec_options, user_fields\u001b[38;5;241m=\u001b[39muser_fields\n\u001b[1;32m    202\u001b[0m     )\n",
      "File \u001b[0;32m/opt/anaconda3/lib/python3.12/site-packages/pymongo/network_layer.py:755\u001b[0m, in \u001b[0;36mreceive_message\u001b[0;34m(conn, request_id, max_message_size)\u001b[0m\n\u001b[1;32m    753\u001b[0m         deadline \u001b[38;5;241m=\u001b[39m \u001b[38;5;28;01mNone\u001b[39;00m\n\u001b[1;32m    754\u001b[0m \u001b[38;5;66;03m# Ignore the response's request id.\u001b[39;00m\n\u001b[0;32m--> 755\u001b[0m length, _, response_to, op_code \u001b[38;5;241m=\u001b[39m _UNPACK_HEADER(receive_data(conn, \u001b[38;5;241m16\u001b[39m, deadline))\n\u001b[1;32m    756\u001b[0m \u001b[38;5;66;03m# No request_id for exhaust cursor \"getMore\".\u001b[39;00m\n\u001b[1;32m    757\u001b[0m \u001b[38;5;28;01mif\u001b[39;00m request_id \u001b[38;5;129;01mis\u001b[39;00m \u001b[38;5;129;01mnot\u001b[39;00m \u001b[38;5;28;01mNone\u001b[39;00m:\n",
      "File \u001b[0;32m/opt/anaconda3/lib/python3.12/site-packages/pymongo/network_layer.py:355\u001b[0m, in \u001b[0;36mreceive_data\u001b[0;34m(conn, length, deadline)\u001b[0m\n\u001b[1;32m    352\u001b[0m             short_timeout \u001b[38;5;241m=\u001b[39m _POLL_TIMEOUT\n\u001b[1;32m    353\u001b[0m         conn\u001b[38;5;241m.\u001b[39mset_conn_timeout(short_timeout)\n\u001b[0;32m--> 355\u001b[0m     chunk_length \u001b[38;5;241m=\u001b[39m conn\u001b[38;5;241m.\u001b[39mconn\u001b[38;5;241m.\u001b[39mrecv_into(mv[bytes_read:])\n\u001b[1;32m    356\u001b[0m \u001b[38;5;28;01mexcept\u001b[39;00m BLOCKING_IO_ERRORS:\n\u001b[1;32m    357\u001b[0m     \u001b[38;5;28;01mif\u001b[39;00m conn\u001b[38;5;241m.\u001b[39mcancel_context\u001b[38;5;241m.\u001b[39mcancelled:\n",
      "File \u001b[0;32m/opt/anaconda3/lib/python3.12/site-packages/pymongo/network_layer.py:465\u001b[0m, in \u001b[0;36mNetworkingInterface.recv_into\u001b[0;34m(self, buffer)\u001b[0m\n\u001b[1;32m    464\u001b[0m \u001b[38;5;28;01mdef\u001b[39;00m \u001b[38;5;21mrecv_into\u001b[39m(\u001b[38;5;28mself\u001b[39m, buffer: \u001b[38;5;28mbytes\u001b[39m) \u001b[38;5;241m-\u001b[39m\u001b[38;5;241m>\u001b[39m \u001b[38;5;28mint\u001b[39m:\n\u001b[0;32m--> 465\u001b[0m     \u001b[38;5;28;01mreturn\u001b[39;00m \u001b[38;5;28mself\u001b[39m\u001b[38;5;241m.\u001b[39mconn\u001b[38;5;241m.\u001b[39mrecv_into(buffer)\n",
      "\u001b[0;31mKeyboardInterrupt\u001b[0m: "
     ]
    }
   ],
   "source": [
    "import json\n",
    "\n",
    "response = client_ai.chat.completions.create(\n",
    "    model=\"gpt-4\",\n",
    "    messages=[{\"role\": \"user\", \"content\": generate_prompt(user_query)}],\n",
    "    temperature=0\n",
    ")\n",
    "\n",
    "code_str = response.choices[0].message.content.strip()\n",
    "\n",
    "if code_str.startswith(\"```python\"):\n",
    "    code_str = code_str[len(\"```python\"):].strip()\n",
    "if code_str.endswith(\"```\"):\n",
    "    code_str = code_str[:-3].strip()\n",
    "\n",
    "try:\n",
    "    exec_locals = {\"db\": db}\n",
    "    exec(code_str, {}, exec_locals)\n",
    "\n",
    "    # ✅ Query result only when 'results' is actually defined\n",
    "    if \"results\" in exec_locals:\n",
    "        print(\"\\n📋 Query Result:\\n\")\n",
    "        results = exec_locals[\"results\"]\n",
    "\n",
    "        if isinstance(results, list):\n",
    "            for doc in results:\n",
    "                print(doc)\n",
    "        elif isinstance(results, dict):\n",
    "            print(results)\n",
    "        elif hasattr(results, \"__iter__\") and not isinstance(results, str):\n",
    "            print(\"📎 Cursor result：\\n\")\n",
    "            for doc in list(results):\n",
    "                print(doc)\n",
    "        else:\n",
    "            print(results)\n",
    "\n",
    "    # Insert\n",
    "    if \"insert_one\" in code_str or \"insert_many\" in code_str:\n",
    "        print(\"✅ Insert Successfully:\", exec_locals.get(\"result\", \"OK\"))\n",
    "\n",
    "    # Delete\n",
    "    if \"delete_one\" in code_str or \"delete_many\" in code_str:\n",
    "        print(\"🗑 Delete Successfully，Number:\", exec_locals[\"result\"].deleted_count)\n",
    "\n",
    "    # Update\n",
    "    if \"update_one\" in code_str or \"update_many\" in code_str:\n",
    "        print(\"🔧 Update Successfully，Match:\", exec_locals[\"result\"].matched_count)\n",
    "        print(\"📝 Change:\", exec_locals[\"result\"].modified_count)\n",
    "\n",
    "    print(\"\\n✅ Finished\")\n",
    "\n",
    "except Exception as e:\n",
    "    print(\"❌ Error:\", e)"
   ]
  },
  {
   "cell_type": "markdown",
   "id": "6ca9c3bd-f8b2-413b-97d4-72a84982f167",
   "metadata": {},
   "source": [
    "# Thank You !!! ❤️"
   ]
  }
 ],
 "metadata": {
  "kernelspec": {
   "display_name": "Python [conda env:base] *",
   "language": "python",
   "name": "conda-base-py"
  },
  "language_info": {
   "codemirror_mode": {
    "name": "ipython",
    "version": 3
   },
   "file_extension": ".py",
   "mimetype": "text/x-python",
   "name": "python",
   "nbconvert_exporter": "python",
   "pygments_lexer": "ipython3",
   "version": "3.12.7"
  }
 },
 "nbformat": 4,
 "nbformat_minor": 5
}
